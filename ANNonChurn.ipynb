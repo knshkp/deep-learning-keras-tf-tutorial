{
  "nbformat": 4,
  "nbformat_minor": 0,
  "metadata": {
    "colab": {
      "name": "ANNonChurn.ipynb",
      "provenance": [],
      "authorship_tag": "ABX9TyOLE/mYeVWcQ+CURfZDJDQE",
      "include_colab_link": true
    },
    "kernelspec": {
      "name": "python3",
      "display_name": "Python 3"
    },
    "language_info": {
      "name": "python"
    }
  },
  "cells": [
    {
      "cell_type": "markdown",
      "metadata": {
        "id": "view-in-github",
        "colab_type": "text"
      },
      "source": [
        "<a href=\"https://colab.research.google.com/github/knshkp/deep-learning-keras-tf-tutorial/blob/master/ANNonChurn.ipynb\" target=\"_parent\"><img src=\"https://colab.research.google.com/assets/colab-badge.svg\" alt=\"Open In Colab\"/></a>"
      ]
    },
    {
      "cell_type": "code",
      "metadata": {
        "id": "gCuHayPa9D80"
      },
      "source": [
        "import numpy as np\n",
        "import pandas as pd\n",
        "import tensorflow as tf\n",
        "from tensorflow import keras\n",
        "import matplotlib.pyplot as plt"
      ],
      "execution_count": 125,
      "outputs": []
    },
    {
      "cell_type": "code",
      "metadata": {
        "colab": {
          "base_uri": "https://localhost:8080/",
          "height": 309
        },
        "id": "iqkRuwJa9X03",
        "outputId": "ff0b724f-2606-4a07-a73d-a18aa84a3d91"
      },
      "source": [
        "df=pd.read_csv(\"/content/WA_Fn-UseC_-Telco-Customer-Churn.csv\")\n",
        "df.head()"
      ],
      "execution_count": 126,
      "outputs": [
        {
          "output_type": "execute_result",
          "data": {
            "text/html": [
              "<div>\n",
              "<style scoped>\n",
              "    .dataframe tbody tr th:only-of-type {\n",
              "        vertical-align: middle;\n",
              "    }\n",
              "\n",
              "    .dataframe tbody tr th {\n",
              "        vertical-align: top;\n",
              "    }\n",
              "\n",
              "    .dataframe thead th {\n",
              "        text-align: right;\n",
              "    }\n",
              "</style>\n",
              "<table border=\"1\" class=\"dataframe\">\n",
              "  <thead>\n",
              "    <tr style=\"text-align: right;\">\n",
              "      <th></th>\n",
              "      <th>customerID</th>\n",
              "      <th>gender</th>\n",
              "      <th>SeniorCitizen</th>\n",
              "      <th>Partner</th>\n",
              "      <th>Dependents</th>\n",
              "      <th>tenure</th>\n",
              "      <th>PhoneService</th>\n",
              "      <th>MultipleLines</th>\n",
              "      <th>InternetService</th>\n",
              "      <th>OnlineSecurity</th>\n",
              "      <th>OnlineBackup</th>\n",
              "      <th>DeviceProtection</th>\n",
              "      <th>TechSupport</th>\n",
              "      <th>StreamingTV</th>\n",
              "      <th>StreamingMovies</th>\n",
              "      <th>Contract</th>\n",
              "      <th>PaperlessBilling</th>\n",
              "      <th>PaymentMethod</th>\n",
              "      <th>MonthlyCharges</th>\n",
              "      <th>TotalCharges</th>\n",
              "      <th>Churn</th>\n",
              "    </tr>\n",
              "  </thead>\n",
              "  <tbody>\n",
              "    <tr>\n",
              "      <th>0</th>\n",
              "      <td>7590-VHVEG</td>\n",
              "      <td>Female</td>\n",
              "      <td>0</td>\n",
              "      <td>Yes</td>\n",
              "      <td>No</td>\n",
              "      <td>1</td>\n",
              "      <td>No</td>\n",
              "      <td>No phone service</td>\n",
              "      <td>DSL</td>\n",
              "      <td>No</td>\n",
              "      <td>Yes</td>\n",
              "      <td>No</td>\n",
              "      <td>No</td>\n",
              "      <td>No</td>\n",
              "      <td>No</td>\n",
              "      <td>Month-to-month</td>\n",
              "      <td>Yes</td>\n",
              "      <td>Electronic check</td>\n",
              "      <td>29.85</td>\n",
              "      <td>29.85</td>\n",
              "      <td>No</td>\n",
              "    </tr>\n",
              "    <tr>\n",
              "      <th>1</th>\n",
              "      <td>5575-GNVDE</td>\n",
              "      <td>Male</td>\n",
              "      <td>0</td>\n",
              "      <td>No</td>\n",
              "      <td>No</td>\n",
              "      <td>34</td>\n",
              "      <td>Yes</td>\n",
              "      <td>No</td>\n",
              "      <td>DSL</td>\n",
              "      <td>Yes</td>\n",
              "      <td>No</td>\n",
              "      <td>Yes</td>\n",
              "      <td>No</td>\n",
              "      <td>No</td>\n",
              "      <td>No</td>\n",
              "      <td>One year</td>\n",
              "      <td>No</td>\n",
              "      <td>Mailed check</td>\n",
              "      <td>56.95</td>\n",
              "      <td>1889.5</td>\n",
              "      <td>No</td>\n",
              "    </tr>\n",
              "    <tr>\n",
              "      <th>2</th>\n",
              "      <td>3668-QPYBK</td>\n",
              "      <td>Male</td>\n",
              "      <td>0</td>\n",
              "      <td>No</td>\n",
              "      <td>No</td>\n",
              "      <td>2</td>\n",
              "      <td>Yes</td>\n",
              "      <td>No</td>\n",
              "      <td>DSL</td>\n",
              "      <td>Yes</td>\n",
              "      <td>Yes</td>\n",
              "      <td>No</td>\n",
              "      <td>No</td>\n",
              "      <td>No</td>\n",
              "      <td>No</td>\n",
              "      <td>Month-to-month</td>\n",
              "      <td>Yes</td>\n",
              "      <td>Mailed check</td>\n",
              "      <td>53.85</td>\n",
              "      <td>108.15</td>\n",
              "      <td>Yes</td>\n",
              "    </tr>\n",
              "    <tr>\n",
              "      <th>3</th>\n",
              "      <td>7795-CFOCW</td>\n",
              "      <td>Male</td>\n",
              "      <td>0</td>\n",
              "      <td>No</td>\n",
              "      <td>No</td>\n",
              "      <td>45</td>\n",
              "      <td>No</td>\n",
              "      <td>No phone service</td>\n",
              "      <td>DSL</td>\n",
              "      <td>Yes</td>\n",
              "      <td>No</td>\n",
              "      <td>Yes</td>\n",
              "      <td>Yes</td>\n",
              "      <td>No</td>\n",
              "      <td>No</td>\n",
              "      <td>One year</td>\n",
              "      <td>No</td>\n",
              "      <td>Bank transfer (automatic)</td>\n",
              "      <td>42.30</td>\n",
              "      <td>1840.75</td>\n",
              "      <td>No</td>\n",
              "    </tr>\n",
              "    <tr>\n",
              "      <th>4</th>\n",
              "      <td>9237-HQITU</td>\n",
              "      <td>Female</td>\n",
              "      <td>0</td>\n",
              "      <td>No</td>\n",
              "      <td>No</td>\n",
              "      <td>2</td>\n",
              "      <td>Yes</td>\n",
              "      <td>No</td>\n",
              "      <td>Fiber optic</td>\n",
              "      <td>No</td>\n",
              "      <td>No</td>\n",
              "      <td>No</td>\n",
              "      <td>No</td>\n",
              "      <td>No</td>\n",
              "      <td>No</td>\n",
              "      <td>Month-to-month</td>\n",
              "      <td>Yes</td>\n",
              "      <td>Electronic check</td>\n",
              "      <td>70.70</td>\n",
              "      <td>151.65</td>\n",
              "      <td>Yes</td>\n",
              "    </tr>\n",
              "  </tbody>\n",
              "</table>\n",
              "</div>"
            ],
            "text/plain": [
              "   customerID  gender  SeniorCitizen  ... MonthlyCharges TotalCharges  Churn\n",
              "0  7590-VHVEG  Female              0  ...          29.85        29.85     No\n",
              "1  5575-GNVDE    Male              0  ...          56.95       1889.5     No\n",
              "2  3668-QPYBK    Male              0  ...          53.85       108.15    Yes\n",
              "3  7795-CFOCW    Male              0  ...          42.30      1840.75     No\n",
              "4  9237-HQITU  Female              0  ...          70.70       151.65    Yes\n",
              "\n",
              "[5 rows x 21 columns]"
            ]
          },
          "metadata": {},
          "execution_count": 126
        }
      ]
    },
    {
      "cell_type": "code",
      "metadata": {
        "id": "qJyUESed9kzb",
        "colab": {
          "base_uri": "https://localhost:8080/"
        },
        "outputId": "531a59d7-ea80-47d7-d05f-22ef7345a194"
      },
      "source": [
        "df.dtypes"
      ],
      "execution_count": 127,
      "outputs": [
        {
          "output_type": "execute_result",
          "data": {
            "text/plain": [
              "customerID           object\n",
              "gender               object\n",
              "SeniorCitizen         int64\n",
              "Partner              object\n",
              "Dependents           object\n",
              "tenure                int64\n",
              "PhoneService         object\n",
              "MultipleLines        object\n",
              "InternetService      object\n",
              "OnlineSecurity       object\n",
              "OnlineBackup         object\n",
              "DeviceProtection     object\n",
              "TechSupport          object\n",
              "StreamingTV          object\n",
              "StreamingMovies      object\n",
              "Contract             object\n",
              "PaperlessBilling     object\n",
              "PaymentMethod        object\n",
              "MonthlyCharges      float64\n",
              "TotalCharges         object\n",
              "Churn                object\n",
              "dtype: object"
            ]
          },
          "metadata": {},
          "execution_count": 127
        }
      ]
    },
    {
      "cell_type": "code",
      "metadata": {
        "id": "f-sP_t1Y_PvV"
      },
      "source": [
        "df.drop('customerID',axis=\"columns\",inplace=True)"
      ],
      "execution_count": 128,
      "outputs": []
    },
    {
      "cell_type": "code",
      "metadata": {
        "colab": {
          "base_uri": "https://localhost:8080/",
          "height": 292
        },
        "id": "3_7YN4PR_xUT",
        "outputId": "97486f87-cb05-4bbe-fc30-5b5f882e43fc"
      },
      "source": [
        "df.head()"
      ],
      "execution_count": 129,
      "outputs": [
        {
          "output_type": "execute_result",
          "data": {
            "text/html": [
              "<div>\n",
              "<style scoped>\n",
              "    .dataframe tbody tr th:only-of-type {\n",
              "        vertical-align: middle;\n",
              "    }\n",
              "\n",
              "    .dataframe tbody tr th {\n",
              "        vertical-align: top;\n",
              "    }\n",
              "\n",
              "    .dataframe thead th {\n",
              "        text-align: right;\n",
              "    }\n",
              "</style>\n",
              "<table border=\"1\" class=\"dataframe\">\n",
              "  <thead>\n",
              "    <tr style=\"text-align: right;\">\n",
              "      <th></th>\n",
              "      <th>gender</th>\n",
              "      <th>SeniorCitizen</th>\n",
              "      <th>Partner</th>\n",
              "      <th>Dependents</th>\n",
              "      <th>tenure</th>\n",
              "      <th>PhoneService</th>\n",
              "      <th>MultipleLines</th>\n",
              "      <th>InternetService</th>\n",
              "      <th>OnlineSecurity</th>\n",
              "      <th>OnlineBackup</th>\n",
              "      <th>DeviceProtection</th>\n",
              "      <th>TechSupport</th>\n",
              "      <th>StreamingTV</th>\n",
              "      <th>StreamingMovies</th>\n",
              "      <th>Contract</th>\n",
              "      <th>PaperlessBilling</th>\n",
              "      <th>PaymentMethod</th>\n",
              "      <th>MonthlyCharges</th>\n",
              "      <th>TotalCharges</th>\n",
              "      <th>Churn</th>\n",
              "    </tr>\n",
              "  </thead>\n",
              "  <tbody>\n",
              "    <tr>\n",
              "      <th>0</th>\n",
              "      <td>Female</td>\n",
              "      <td>0</td>\n",
              "      <td>Yes</td>\n",
              "      <td>No</td>\n",
              "      <td>1</td>\n",
              "      <td>No</td>\n",
              "      <td>No phone service</td>\n",
              "      <td>DSL</td>\n",
              "      <td>No</td>\n",
              "      <td>Yes</td>\n",
              "      <td>No</td>\n",
              "      <td>No</td>\n",
              "      <td>No</td>\n",
              "      <td>No</td>\n",
              "      <td>Month-to-month</td>\n",
              "      <td>Yes</td>\n",
              "      <td>Electronic check</td>\n",
              "      <td>29.85</td>\n",
              "      <td>29.85</td>\n",
              "      <td>No</td>\n",
              "    </tr>\n",
              "    <tr>\n",
              "      <th>1</th>\n",
              "      <td>Male</td>\n",
              "      <td>0</td>\n",
              "      <td>No</td>\n",
              "      <td>No</td>\n",
              "      <td>34</td>\n",
              "      <td>Yes</td>\n",
              "      <td>No</td>\n",
              "      <td>DSL</td>\n",
              "      <td>Yes</td>\n",
              "      <td>No</td>\n",
              "      <td>Yes</td>\n",
              "      <td>No</td>\n",
              "      <td>No</td>\n",
              "      <td>No</td>\n",
              "      <td>One year</td>\n",
              "      <td>No</td>\n",
              "      <td>Mailed check</td>\n",
              "      <td>56.95</td>\n",
              "      <td>1889.5</td>\n",
              "      <td>No</td>\n",
              "    </tr>\n",
              "    <tr>\n",
              "      <th>2</th>\n",
              "      <td>Male</td>\n",
              "      <td>0</td>\n",
              "      <td>No</td>\n",
              "      <td>No</td>\n",
              "      <td>2</td>\n",
              "      <td>Yes</td>\n",
              "      <td>No</td>\n",
              "      <td>DSL</td>\n",
              "      <td>Yes</td>\n",
              "      <td>Yes</td>\n",
              "      <td>No</td>\n",
              "      <td>No</td>\n",
              "      <td>No</td>\n",
              "      <td>No</td>\n",
              "      <td>Month-to-month</td>\n",
              "      <td>Yes</td>\n",
              "      <td>Mailed check</td>\n",
              "      <td>53.85</td>\n",
              "      <td>108.15</td>\n",
              "      <td>Yes</td>\n",
              "    </tr>\n",
              "    <tr>\n",
              "      <th>3</th>\n",
              "      <td>Male</td>\n",
              "      <td>0</td>\n",
              "      <td>No</td>\n",
              "      <td>No</td>\n",
              "      <td>45</td>\n",
              "      <td>No</td>\n",
              "      <td>No phone service</td>\n",
              "      <td>DSL</td>\n",
              "      <td>Yes</td>\n",
              "      <td>No</td>\n",
              "      <td>Yes</td>\n",
              "      <td>Yes</td>\n",
              "      <td>No</td>\n",
              "      <td>No</td>\n",
              "      <td>One year</td>\n",
              "      <td>No</td>\n",
              "      <td>Bank transfer (automatic)</td>\n",
              "      <td>42.30</td>\n",
              "      <td>1840.75</td>\n",
              "      <td>No</td>\n",
              "    </tr>\n",
              "    <tr>\n",
              "      <th>4</th>\n",
              "      <td>Female</td>\n",
              "      <td>0</td>\n",
              "      <td>No</td>\n",
              "      <td>No</td>\n",
              "      <td>2</td>\n",
              "      <td>Yes</td>\n",
              "      <td>No</td>\n",
              "      <td>Fiber optic</td>\n",
              "      <td>No</td>\n",
              "      <td>No</td>\n",
              "      <td>No</td>\n",
              "      <td>No</td>\n",
              "      <td>No</td>\n",
              "      <td>No</td>\n",
              "      <td>Month-to-month</td>\n",
              "      <td>Yes</td>\n",
              "      <td>Electronic check</td>\n",
              "      <td>70.70</td>\n",
              "      <td>151.65</td>\n",
              "      <td>Yes</td>\n",
              "    </tr>\n",
              "  </tbody>\n",
              "</table>\n",
              "</div>"
            ],
            "text/plain": [
              "   gender  SeniorCitizen Partner  ... MonthlyCharges  TotalCharges Churn\n",
              "0  Female              0     Yes  ...          29.85         29.85    No\n",
              "1    Male              0      No  ...          56.95        1889.5    No\n",
              "2    Male              0      No  ...          53.85        108.15   Yes\n",
              "3    Male              0      No  ...          42.30       1840.75    No\n",
              "4  Female              0      No  ...          70.70        151.65   Yes\n",
              "\n",
              "[5 rows x 20 columns]"
            ]
          },
          "metadata": {},
          "execution_count": 129
        }
      ]
    },
    {
      "cell_type": "code",
      "metadata": {
        "colab": {
          "base_uri": "https://localhost:8080/"
        },
        "id": "mrNUJ10f_zf2",
        "outputId": "843420ef-df1b-4a6b-fe63-546ec10ed0ed"
      },
      "source": [
        "pd.to_numeric(df.TotalCharges,errors='coerce')"
      ],
      "execution_count": 130,
      "outputs": [
        {
          "output_type": "execute_result",
          "data": {
            "text/plain": [
              "0         29.85\n",
              "1       1889.50\n",
              "2        108.15\n",
              "3       1840.75\n",
              "4        151.65\n",
              "         ...   \n",
              "7038    1990.50\n",
              "7039    7362.90\n",
              "7040     346.45\n",
              "7041     306.60\n",
              "7042    6844.50\n",
              "Name: TotalCharges, Length: 7043, dtype: float64"
            ]
          },
          "metadata": {},
          "execution_count": 130
        }
      ]
    },
    {
      "cell_type": "code",
      "metadata": {
        "colab": {
          "base_uri": "https://localhost:8080/"
        },
        "id": "Woiw_t2ZAPa3",
        "outputId": "4ca7155d-192f-4b92-a20e-88a72aba9904"
      },
      "source": [
        "df[pd.to_numeric(df.TotalCharges,errors='coerce').isnull()].shape"
      ],
      "execution_count": 131,
      "outputs": [
        {
          "output_type": "execute_result",
          "data": {
            "text/plain": [
              "(11, 20)"
            ]
          },
          "metadata": {},
          "execution_count": 131
        }
      ]
    },
    {
      "cell_type": "code",
      "metadata": {
        "colab": {
          "base_uri": "https://localhost:8080/"
        },
        "id": "t-MhsLZdCFVi",
        "outputId": "3f72118c-d073-4feb-def0-a3c62fd30759"
      },
      "source": [
        "df1=df[df.TotalCharges!=\" \"]\n",
        "df1.shape"
      ],
      "execution_count": 132,
      "outputs": [
        {
          "output_type": "execute_result",
          "data": {
            "text/plain": [
              "(7032, 20)"
            ]
          },
          "metadata": {},
          "execution_count": 132
        }
      ]
    },
    {
      "cell_type": "code",
      "metadata": {
        "colab": {
          "base_uri": "https://localhost:8080/"
        },
        "id": "T9ZLj2J2Co_R",
        "outputId": "f3ce7d27-f171-4a30-b378-1c0043363cb8"
      },
      "source": [
        "df1.dtypes"
      ],
      "execution_count": 133,
      "outputs": [
        {
          "output_type": "execute_result",
          "data": {
            "text/plain": [
              "gender               object\n",
              "SeniorCitizen         int64\n",
              "Partner              object\n",
              "Dependents           object\n",
              "tenure                int64\n",
              "PhoneService         object\n",
              "MultipleLines        object\n",
              "InternetService      object\n",
              "OnlineSecurity       object\n",
              "OnlineBackup         object\n",
              "DeviceProtection     object\n",
              "TechSupport          object\n",
              "StreamingTV          object\n",
              "StreamingMovies      object\n",
              "Contract             object\n",
              "PaperlessBilling     object\n",
              "PaymentMethod        object\n",
              "MonthlyCharges      float64\n",
              "TotalCharges         object\n",
              "Churn                object\n",
              "dtype: object"
            ]
          },
          "metadata": {},
          "execution_count": 133
        }
      ]
    },
    {
      "cell_type": "code",
      "metadata": {
        "colab": {
          "base_uri": "https://localhost:8080/"
        },
        "id": "T1z4WO0LC0VQ",
        "outputId": "4c016a4d-b1bd-4930-cff1-36e4ef3dfc88"
      },
      "source": [
        "df1.TotalCharges=pd.to_numeric(df1.TotalCharges)"
      ],
      "execution_count": 134,
      "outputs": [
        {
          "output_type": "stream",
          "name": "stderr",
          "text": [
            "/usr/local/lib/python3.7/dist-packages/pandas/core/generic.py:5170: SettingWithCopyWarning: \n",
            "A value is trying to be set on a copy of a slice from a DataFrame.\n",
            "Try using .loc[row_indexer,col_indexer] = value instead\n",
            "\n",
            "See the caveats in the documentation: https://pandas.pydata.org/pandas-docs/stable/user_guide/indexing.html#returning-a-view-versus-a-copy\n",
            "  self[name] = value\n"
          ]
        }
      ]
    },
    {
      "cell_type": "code",
      "metadata": {
        "colab": {
          "base_uri": "https://localhost:8080/"
        },
        "id": "zn5IXYHqDIfi",
        "outputId": "7a4377ab-658d-4b2a-f71e-91c113fc074f"
      },
      "source": [
        "df1.TotalCharges.dtypes"
      ],
      "execution_count": 135,
      "outputs": [
        {
          "output_type": "execute_result",
          "data": {
            "text/plain": [
              "dtype('float64')"
            ]
          },
          "metadata": {},
          "execution_count": 135
        }
      ]
    },
    {
      "cell_type": "code",
      "metadata": {
        "id": "qvTLaMIjDUx6"
      },
      "source": [
        "tenure_churn_no=df1[df1.Churn=='No'].tenure\n",
        "tenure_churn_yes=df1[df1.Churn=='Yes'].tenure\n"
      ],
      "execution_count": 136,
      "outputs": []
    },
    {
      "cell_type": "code",
      "metadata": {
        "colab": {
          "base_uri": "https://localhost:8080/",
          "height": 366
        },
        "id": "3NwpBrWkECS6",
        "outputId": "ed5b4719-22f1-4a39-8c6f-455be48db8da"
      },
      "source": [
        "plt.xlabel(\"Tenure\")\n",
        "plt.ylabel(\"No of customer\")\n",
        "plt.title(\"Customer churn prediction visualisation\")\n",
        "plt.hist([tenure_churn_yes,tenure_churn_no],color=['green','red'],label=['Yes','NO'])\n",
        "plt.legend()"
      ],
      "execution_count": 137,
      "outputs": [
        {
          "output_type": "stream",
          "name": "stderr",
          "text": [
            "/usr/local/lib/python3.7/dist-packages/numpy/core/_asarray.py:83: VisibleDeprecationWarning: Creating an ndarray from ragged nested sequences (which is a list-or-tuple of lists-or-tuples-or ndarrays with different lengths or shapes) is deprecated. If you meant to do this, you must specify 'dtype=object' when creating the ndarray\n",
            "  return array(a, dtype, copy=False, order=order)\n"
          ]
        },
        {
          "output_type": "execute_result",
          "data": {
            "text/plain": [
              "<matplotlib.legend.Legend at 0x7f6056415c10>"
            ]
          },
          "metadata": {},
          "execution_count": 137
        },
        {
          "output_type": "display_data",
          "data": {
            "image/png": "[encoded data removed]",
            "text/plain": [
              "<Figure size 432x288 with 1 Axes>"
            ]
          },
          "metadata": {
            "needs_background": "light"
          }
        }
      ]
    },
    {
      "cell_type": "code",
      "metadata": {
        "id": "FbkSaAGCFYMQ"
      },
      "source": [
        "mc_churn_no=df1[df1.Churn=='No'].MonthlyCharges\n",
        "mc_churn_yes=df1[df1.Churn=='Yes'].MonthlyCharges"
      ],
      "execution_count": 138,
      "outputs": []
    },
    {
      "cell_type": "code",
      "metadata": {
        "colab": {
          "base_uri": "https://localhost:8080/",
          "height": 366
        },
        "id": "Qqwn_wRXVxQq",
        "outputId": "cdf27c41-8ba3-42b4-abe5-e8bfbec97fc5"
      },
      "source": [
        "plt.xlabel(\"Monthly Charges\")\n",
        "plt.ylabel(\"No of customer\")\n",
        "plt.title(\"Customer churn prediction visualisation\")\n",
        "plt.hist([mc_churn_yes,mc_churn_no],rwidth=0.95,color=['green','red'],label=['Yes','NO'])\n",
        "plt.legend()"
      ],
      "execution_count": 139,
      "outputs": [
        {
          "output_type": "stream",
          "name": "stderr",
          "text": [
            "/usr/local/lib/python3.7/dist-packages/numpy/core/_asarray.py:83: VisibleDeprecationWarning: Creating an ndarray from ragged nested sequences (which is a list-or-tuple of lists-or-tuples-or ndarrays with different lengths or shapes) is deprecated. If you meant to do this, you must specify 'dtype=object' when creating the ndarray\n",
            "  return array(a, dtype, copy=False, order=order)\n"
          ]
        },
        {
          "output_type": "execute_result",
          "data": {
            "text/plain": [
              "<matplotlib.legend.Legend at 0x7f6056344a50>"
            ]
          },
          "metadata": {},
          "execution_count": 139
        },
        {
          "output_type": "display_data",
          "data": {
            "image/png": "[encoded data removed]",
            "text/plain": [
              "<Figure size 432x288 with 1 Axes>"
            ]
          },
          "metadata": {
            "needs_background": "light"
          }
        }
      ]
    },
    {
      "cell_type": "code",
      "metadata": {
        "id": "N-V9i2QuWQHG"
      },
      "source": [
        "def print_unique_col_values(df):\n",
        "  for column in df:\n",
        "    if (df[column].dtype==object):\n",
        "      print(f'{column} : {df[column].unique()}')"
      ],
      "execution_count": 140,
      "outputs": []
    },
    {
      "cell_type": "code",
      "metadata": {
        "colab": {
          "base_uri": "https://localhost:8080/"
        },
        "id": "sg2T4YYPXCGw",
        "outputId": "5f45dd23-780e-4f97-cb5a-455d3c7bed3d"
      },
      "source": [
        "print_unique_col_values(df1)"
      ],
      "execution_count": 141,
      "outputs": [
        {
          "output_type": "stream",
          "name": "stdout",
          "text": [
            "gender : ['Female' 'Male']\n",
            "Partner : ['Yes' 'No']\n",
            "Dependents : ['No' 'Yes']\n",
            "PhoneService : ['No' 'Yes']\n",
            "MultipleLines : ['No phone service' 'No' 'Yes']\n",
            "InternetService : ['DSL' 'Fiber optic' 'No']\n",
            "OnlineSecurity : ['No' 'Yes' 'No internet service']\n",
            "OnlineBackup : ['Yes' 'No' 'No internet service']\n",
            "DeviceProtection : ['No' 'Yes' 'No internet service']\n",
            "TechSupport : ['No' 'Yes' 'No internet service']\n",
            "StreamingTV : ['No' 'Yes' 'No internet service']\n",
            "StreamingMovies : ['No' 'Yes' 'No internet service']\n",
            "Contract : ['Month-to-month' 'One year' 'Two year']\n",
            "PaperlessBilling : ['Yes' 'No']\n",
            "PaymentMethod : ['Electronic check' 'Mailed check' 'Bank transfer (automatic)'\n",
            " 'Credit card (automatic)']\n",
            "Churn : ['No' 'Yes']\n"
          ]
        }
      ]
    },
    {
      "cell_type": "code",
      "metadata": {
        "colab": {
          "base_uri": "https://localhost:8080/"
        },
        "id": "oNabHqPkX8jw",
        "outputId": "a3bdcf65-5271-4896-a095-3835a2fa8e86"
      },
      "source": [
        "print_unique_col_values(df1)\n"
      ],
      "execution_count": 142,
      "outputs": [
        {
          "output_type": "stream",
          "name": "stdout",
          "text": [
            "gender : ['Female' 'Male']\n",
            "Partner : ['Yes' 'No']\n",
            "Dependents : ['No' 'Yes']\n",
            "PhoneService : ['No' 'Yes']\n",
            "MultipleLines : ['No phone service' 'No' 'Yes']\n",
            "InternetService : ['DSL' 'Fiber optic' 'No']\n",
            "OnlineSecurity : ['No' 'Yes' 'No internet service']\n",
            "OnlineBackup : ['Yes' 'No' 'No internet service']\n",
            "DeviceProtection : ['No' 'Yes' 'No internet service']\n",
            "TechSupport : ['No' 'Yes' 'No internet service']\n",
            "StreamingTV : ['No' 'Yes' 'No internet service']\n",
            "StreamingMovies : ['No' 'Yes' 'No internet service']\n",
            "Contract : ['Month-to-month' 'One year' 'Two year']\n",
            "PaperlessBilling : ['Yes' 'No']\n",
            "PaymentMethod : ['Electronic check' 'Mailed check' 'Bank transfer (automatic)'\n",
            " 'Credit card (automatic)']\n",
            "Churn : ['No' 'Yes']\n"
          ]
        }
      ]
    },
    {
      "cell_type": "code",
      "metadata": {
        "colab": {
          "base_uri": "https://localhost:8080/"
        },
        "id": "wkfKR7eXZTnH",
        "outputId": "dc54ede5-8f6f-4982-e839-b4efa040a5f4"
      },
      "source": [
        "df1.replace('No internet service','No',inplace=True)\n",
        "df1.replace('No phone service','No',inplace=True)"
      ],
      "execution_count": 143,
      "outputs": [
        {
          "output_type": "stream",
          "name": "stderr",
          "text": [
            "/usr/local/lib/python3.7/dist-packages/pandas/core/frame.py:4389: SettingWithCopyWarning: \n",
            "A value is trying to be set on a copy of a slice from a DataFrame\n",
            "\n",
            "See the caveats in the documentation: https://pandas.pydata.org/pandas-docs/stable/user_guide/indexing.html#returning-a-view-versus-a-copy\n",
            "  method=method,\n"
          ]
        }
      ]
    },
    {
      "cell_type": "code",
      "metadata": {
        "colab": {
          "base_uri": "https://localhost:8080/"
        },
        "id": "vPW6fiIla1gG",
        "outputId": "0fe95b3b-438f-4587-a285-fa90ea29da64"
      },
      "source": [
        "print_unique_col_values(df1)"
      ],
      "execution_count": 144,
      "outputs": [
        {
          "output_type": "stream",
          "name": "stdout",
          "text": [
            "gender : ['Female' 'Male']\n",
            "Partner : ['Yes' 'No']\n",
            "Dependents : ['No' 'Yes']\n",
            "PhoneService : ['No' 'Yes']\n",
            "MultipleLines : ['No' 'Yes']\n",
            "InternetService : ['DSL' 'Fiber optic' 'No']\n",
            "OnlineSecurity : ['No' 'Yes']\n",
            "OnlineBackup : ['Yes' 'No']\n",
            "DeviceProtection : ['No' 'Yes']\n",
            "TechSupport : ['No' 'Yes']\n",
            "StreamingTV : ['No' 'Yes']\n",
            "StreamingMovies : ['No' 'Yes']\n",
            "Contract : ['Month-to-month' 'One year' 'Two year']\n",
            "PaperlessBilling : ['Yes' 'No']\n",
            "PaymentMethod : ['Electronic check' 'Mailed check' 'Bank transfer (automatic)'\n",
            " 'Credit card (automatic)']\n",
            "Churn : ['No' 'Yes']\n"
          ]
        }
      ]
    },
    {
      "cell_type": "code",
      "metadata": {
        "colab": {
          "base_uri": "https://localhost:8080/"
        },
        "id": "Q_8fhoEXa8i0",
        "outputId": "38934589-9abe-4e5f-e122-7486c357a224"
      },
      "source": [
        "yes_no_column=['Partner','Dependents','PhoneService','MultipleLines','OnlineSecurity','OnlineBackup','DeviceProtection','TechSupport','StreamingTV','StreamingMovies','PaperlessBilling','Churn']\n",
        "for col in yes_no_column:\n",
        "  df1[col].replace({'Yes':1 , 'No':0},inplace=True)"
      ],
      "execution_count": 145,
      "outputs": [
        {
          "output_type": "stream",
          "name": "stderr",
          "text": [
            "/usr/local/lib/python3.7/dist-packages/pandas/core/series.py:4582: SettingWithCopyWarning: \n",
            "A value is trying to be set on a copy of a slice from a DataFrame\n",
            "\n",
            "See the caveats in the documentation: https://pandas.pydata.org/pandas-docs/stable/user_guide/indexing.html#returning-a-view-versus-a-copy\n",
            "  method=method,\n"
          ]
        }
      ]
    },
    {
      "cell_type": "code",
      "metadata": {
        "colab": {
          "base_uri": "https://localhost:8080/"
        },
        "id": "TSZNZ8vEqQFD",
        "outputId": "07d49bcb-b354-415d-8ec9-c4d7d64cd92d"
      },
      "source": [
        "print_unique_col_values(df1)"
      ],
      "execution_count": 146,
      "outputs": [
        {
          "output_type": "stream",
          "name": "stdout",
          "text": [
            "gender : ['Female' 'Male']\n",
            "InternetService : ['DSL' 'Fiber optic' 'No']\n",
            "Contract : ['Month-to-month' 'One year' 'Two year']\n",
            "PaymentMethod : ['Electronic check' 'Mailed check' 'Bank transfer (automatic)'\n",
            " 'Credit card (automatic)']\n"
          ]
        }
      ]
    },
    {
      "cell_type": "code",
      "metadata": {
        "colab": {
          "base_uri": "https://localhost:8080/"
        },
        "id": "pU6fv0Tcqdnp",
        "outputId": "d4998bfa-4a76-443b-d766-414897e9a718"
      },
      "source": [
        "df1['gender'].replace({'Female':0,'Male':1},inplace=True)"
      ],
      "execution_count": 147,
      "outputs": [
        {
          "output_type": "stream",
          "name": "stderr",
          "text": [
            "/usr/local/lib/python3.7/dist-packages/pandas/core/series.py:4582: SettingWithCopyWarning: \n",
            "A value is trying to be set on a copy of a slice from a DataFrame\n",
            "\n",
            "See the caveats in the documentation: https://pandas.pydata.org/pandas-docs/stable/user_guide/indexing.html#returning-a-view-versus-a-copy\n",
            "  method=method,\n"
          ]
        }
      ]
    },
    {
      "cell_type": "code",
      "metadata": {
        "colab": {
          "base_uri": "https://localhost:8080/"
        },
        "id": "wW_zJ4Ecq6Ta",
        "outputId": "71def39b-91f3-4890-c632-8a92786c8a3c"
      },
      "source": [
        "df2=pd.get_dummies(data=df1,columns=['InternetService','Contract','PaymentMethod'])\n",
        "df2.columns"
      ],
      "execution_count": 148,
      "outputs": [
        {
          "output_type": "execute_result",
          "data": {
            "text/plain": [
              "Index(['gender', 'SeniorCitizen', 'Partner', 'Dependents', 'tenure',\n",
              "       'PhoneService', 'MultipleLines', 'OnlineSecurity', 'OnlineBackup',\n",
              "       'DeviceProtection', 'TechSupport', 'StreamingTV', 'StreamingMovies',\n",
              "       'PaperlessBilling', 'MonthlyCharges', 'TotalCharges', 'Churn',\n",
              "       'InternetService_DSL', 'InternetService_Fiber optic',\n",
              "       'InternetService_No', 'Contract_Month-to-month', 'Contract_One year',\n",
              "       'Contract_Two year', 'PaymentMethod_Bank transfer (automatic)',\n",
              "       'PaymentMethod_Credit card (automatic)',\n",
              "       'PaymentMethod_Electronic check', 'PaymentMethod_Mailed check'],\n",
              "      dtype='object')"
            ]
          },
          "metadata": {},
          "execution_count": 148
        }
      ]
    },
    {
      "cell_type": "code",
      "metadata": {
        "colab": {
          "base_uri": "https://localhost:8080/"
        },
        "id": "b7ej3GKGr0Sa",
        "outputId": "9a978cb2-3b22-412c-c630-e01b6e16bebc"
      },
      "source": [
        "df1.dtypes"
      ],
      "execution_count": 149,
      "outputs": [
        {
          "output_type": "execute_result",
          "data": {
            "text/plain": [
              "gender                int64\n",
              "SeniorCitizen         int64\n",
              "Partner               int64\n",
              "Dependents            int64\n",
              "tenure                int64\n",
              "PhoneService          int64\n",
              "MultipleLines         int64\n",
              "InternetService      object\n",
              "OnlineSecurity        int64\n",
              "OnlineBackup          int64\n",
              "DeviceProtection      int64\n",
              "TechSupport           int64\n",
              "StreamingTV           int64\n",
              "StreamingMovies       int64\n",
              "Contract             object\n",
              "PaperlessBilling      int64\n",
              "PaymentMethod        object\n",
              "MonthlyCharges      float64\n",
              "TotalCharges        float64\n",
              "Churn                 int64\n",
              "dtype: object"
            ]
          },
          "metadata": {},
          "execution_count": 149
        }
      ]
    },
    {
      "cell_type": "code",
      "metadata": {
        "id": "eYr-QPECsVjM"
      },
      "source": [
        "cols_to_scale=['tenure','MonthlyCharges','TotalCharges']\n",
        "from sklearn.preprocessing import MinMaxScaler\n",
        "scaler=MinMaxScaler()\n",
        "df2[cols_to_scale]=scaler.fit_transform(df2[cols_to_scale])\n"
      ],
      "execution_count": 150,
      "outputs": []
    },
    {
      "cell_type": "code",
      "metadata": {
        "id": "cORZuoclsv4i"
      },
      "source": [
        "X=df2.drop('Churn',axis='columns')\n",
        "y=df2['Churn']"
      ],
      "execution_count": 151,
      "outputs": []
    },
    {
      "cell_type": "code",
      "metadata": {
        "id": "GPnDXQicuDQY"
      },
      "source": [
        "from sklearn.model_selection import train_test_split\n",
        "X_train,X_test,y_train,y_test=train_test_split(X,y,test_size=0.2,random_state=5)"
      ],
      "execution_count": 152,
      "outputs": []
    },
    {
      "cell_type": "code",
      "metadata": {
        "colab": {
          "base_uri": "https://localhost:8080/"
        },
        "id": "tn-3V3JxufOO",
        "outputId": "b665b539-3f1e-48a3-fb7d-7746ce11dec9"
      },
      "source": [
        "model=keras.Sequential([\n",
        "                        keras.layers.Dense(20,input_shape=(26,),activation='relu'),\n",
        "                        keras.layers.Dense(15,activation='relu'),\n",
        "                        keras.layers.Dense(1,activation='sigmoid')\n",
        "])\n",
        "model.compile(optimizer='adam',loss='binary_crossentropy',metrics=['accuracy'])\n",
        "model.fit(X_train,y_train,epochs=500)"
      ],
      "execution_count": 153,
      "outputs": [
        {
          "output_type": "stream",
          "name": "stdout",
          "text": [
            "Epoch 1/500\n",
            "176/176 [==============================] - 1s 2ms/step - loss: 0.4932 - accuracy: 0.7573\n",
            "Epoch 2/500\n",
            "176/176 [==============================] - 0s 2ms/step - loss: 0.4287 - accuracy: 0.7888\n",
            "Epoch 3/500\n",
            "176/176 [==============================] - 0s 2ms/step - loss: 0.4200 - accuracy: 0.7982\n",
            "Epoch 4/500\n",
            "176/176 [==============================] - 0s 2ms/step - loss: 0.4165 - accuracy: 0.8059\n",
            "Epoch 5/500\n",
            "176/176 [==============================] - 0s 2ms/step - loss: 0.4131 - accuracy: 0.8025\n",
            "Epoch 6/500\n",
            "176/176 [==============================] - 0s 2ms/step - loss: 0.4113 - accuracy: 0.8069\n",
            "Epoch 7/500\n",
            "176/176 [==============================] - 0s 2ms/step - loss: 0.4098 - accuracy: 0.8082\n",
            "Epoch 8/500\n",
            "176/176 [==============================] - 0s 2ms/step - loss: 0.4081 - accuracy: 0.8108\n",
            "Epoch 9/500\n",
            "176/176 [==============================] - 0s 2ms/step - loss: 0.4066 - accuracy: 0.8082\n",
            "Epoch 10/500\n",
            "176/176 [==============================] - 0s 2ms/step - loss: 0.4056 - accuracy: 0.8084\n",
            "Epoch 11/500\n",
            "176/176 [==============================] - 0s 2ms/step - loss: 0.4042 - accuracy: 0.8082\n",
            "Epoch 12/500\n",
            "176/176 [==============================] - 0s 2ms/step - loss: 0.4035 - accuracy: 0.8126\n",
            "Epoch 13/500\n",
            "176/176 [==============================] - 0s 2ms/step - loss: 0.4014 - accuracy: 0.8116\n",
            "Epoch 14/500\n",
            "176/176 [==============================] - 0s 2ms/step - loss: 0.4011 - accuracy: 0.8096\n",
            "Epoch 15/500\n",
            "176/176 [==============================] - 0s 2ms/step - loss: 0.4007 - accuracy: 0.8098\n",
            "Epoch 16/500\n",
            "176/176 [==============================] - 0s 2ms/step - loss: 0.3987 - accuracy: 0.8114\n",
            "Epoch 17/500\n",
            "176/176 [==============================] - 0s 2ms/step - loss: 0.3980 - accuracy: 0.8130\n",
            "Epoch 18/500\n",
            "176/176 [==============================] - 0s 2ms/step - loss: 0.3976 - accuracy: 0.8091\n",
            "Epoch 19/500\n",
            "176/176 [==============================] - 0s 2ms/step - loss: 0.3966 - accuracy: 0.8121\n",
            "Epoch 20/500\n",
            "176/176 [==============================] - 0s 2ms/step - loss: 0.3963 - accuracy: 0.8149\n",
            "Epoch 21/500\n",
            "176/176 [==============================] - 0s 2ms/step - loss: 0.3953 - accuracy: 0.8123\n",
            "Epoch 22/500\n",
            "176/176 [==============================] - 0s 2ms/step - loss: 0.3943 - accuracy: 0.8130\n",
            "Epoch 23/500\n",
            "176/176 [==============================] - 0s 2ms/step - loss: 0.3935 - accuracy: 0.8142\n",
            "Epoch 24/500\n",
            "176/176 [==============================] - 0s 2ms/step - loss: 0.3938 - accuracy: 0.8148\n",
            "Epoch 25/500\n",
            "176/176 [==============================] - 0s 2ms/step - loss: 0.3925 - accuracy: 0.8148\n",
            "Epoch 26/500\n",
            "176/176 [==============================] - 0s 2ms/step - loss: 0.3921 - accuracy: 0.8167\n",
            "Epoch 27/500\n",
            "176/176 [==============================] - 0s 2ms/step - loss: 0.3913 - accuracy: 0.8137\n",
            "Epoch 28/500\n",
            "176/176 [==============================] - 0s 2ms/step - loss: 0.3905 - accuracy: 0.8142\n",
            "Epoch 29/500\n",
            "176/176 [==============================] - 0s 2ms/step - loss: 0.3897 - accuracy: 0.8162\n",
            "Epoch 30/500\n",
            "176/176 [==============================] - 0s 2ms/step - loss: 0.3888 - accuracy: 0.8148\n",
            "Epoch 31/500\n",
            "176/176 [==============================] - 0s 2ms/step - loss: 0.3884 - accuracy: 0.8148\n",
            "Epoch 32/500\n",
            "176/176 [==============================] - 0s 2ms/step - loss: 0.3889 - accuracy: 0.8176\n",
            "Epoch 33/500\n",
            "176/176 [==============================] - 0s 2ms/step - loss: 0.3867 - accuracy: 0.8183\n",
            "Epoch 34/500\n",
            "176/176 [==============================] - 0s 2ms/step - loss: 0.3859 - accuracy: 0.8185\n",
            "Epoch 35/500\n",
            "176/176 [==============================] - 0s 2ms/step - loss: 0.3857 - accuracy: 0.8183\n",
            "Epoch 36/500\n",
            "176/176 [==============================] - 0s 2ms/step - loss: 0.3848 - accuracy: 0.8190\n",
            "Epoch 37/500\n",
            "176/176 [==============================] - 0s 2ms/step - loss: 0.3853 - accuracy: 0.8174\n",
            "Epoch 38/500\n",
            "176/176 [==============================] - 0s 2ms/step - loss: 0.3837 - accuracy: 0.8190\n",
            "Epoch 39/500\n",
            "176/176 [==============================] - 0s 2ms/step - loss: 0.3836 - accuracy: 0.8206\n",
            "Epoch 40/500\n",
            "176/176 [==============================] - 0s 2ms/step - loss: 0.3819 - accuracy: 0.8206\n",
            "Epoch 41/500\n",
            "176/176 [==============================] - 0s 2ms/step - loss: 0.3816 - accuracy: 0.8190\n",
            "Epoch 42/500\n",
            "176/176 [==============================] - 0s 2ms/step - loss: 0.3808 - accuracy: 0.8196\n",
            "Epoch 43/500\n",
            "176/176 [==============================] - 0s 2ms/step - loss: 0.3808 - accuracy: 0.8201\n",
            "Epoch 44/500\n",
            "176/176 [==============================] - 0s 2ms/step - loss: 0.3804 - accuracy: 0.8183\n",
            "Epoch 45/500\n",
            "176/176 [==============================] - 0s 2ms/step - loss: 0.3797 - accuracy: 0.8190\n",
            "Epoch 46/500\n",
            "176/176 [==============================] - 0s 2ms/step - loss: 0.3780 - accuracy: 0.8194\n",
            "Epoch 47/500\n",
            "176/176 [==============================] - 0s 2ms/step - loss: 0.3787 - accuracy: 0.8210\n",
            "Epoch 48/500\n",
            "176/176 [==============================] - 0s 2ms/step - loss: 0.3777 - accuracy: 0.8197\n",
            "Epoch 49/500\n",
            "176/176 [==============================] - 0s 2ms/step - loss: 0.3786 - accuracy: 0.8188\n",
            "Epoch 50/500\n",
            "176/176 [==============================] - 0s 2ms/step - loss: 0.3772 - accuracy: 0.8201\n",
            "Epoch 51/500\n",
            "176/176 [==============================] - 0s 2ms/step - loss: 0.3780 - accuracy: 0.8208\n",
            "Epoch 52/500\n",
            "176/176 [==============================] - 0s 2ms/step - loss: 0.3752 - accuracy: 0.8215\n",
            "Epoch 53/500\n",
            "176/176 [==============================] - 0s 2ms/step - loss: 0.3752 - accuracy: 0.8220\n",
            "Epoch 54/500\n",
            "176/176 [==============================] - 0s 2ms/step - loss: 0.3749 - accuracy: 0.8220\n",
            "Epoch 55/500\n",
            "176/176 [==============================] - 0s 2ms/step - loss: 0.3743 - accuracy: 0.8228\n",
            "Epoch 56/500\n",
            "176/176 [==============================] - 0s 2ms/step - loss: 0.3738 - accuracy: 0.8242\n",
            "Epoch 57/500\n",
            "176/176 [==============================] - 0s 2ms/step - loss: 0.3734 - accuracy: 0.8215\n",
            "Epoch 58/500\n",
            "176/176 [==============================] - 0s 2ms/step - loss: 0.3728 - accuracy: 0.8212\n",
            "Epoch 59/500\n",
            "176/176 [==============================] - 0s 2ms/step - loss: 0.3720 - accuracy: 0.8228\n",
            "Epoch 60/500\n",
            "176/176 [==============================] - 0s 2ms/step - loss: 0.3717 - accuracy: 0.8231\n",
            "Epoch 61/500\n",
            "176/176 [==============================] - 0s 2ms/step - loss: 0.3716 - accuracy: 0.8228\n",
            "Epoch 62/500\n",
            "176/176 [==============================] - 0s 2ms/step - loss: 0.3711 - accuracy: 0.8226\n",
            "Epoch 63/500\n",
            "176/176 [==============================] - 0s 2ms/step - loss: 0.3706 - accuracy: 0.8242\n",
            "Epoch 64/500\n",
            "176/176 [==============================] - 0s 2ms/step - loss: 0.3702 - accuracy: 0.8235\n",
            "Epoch 65/500\n",
            "176/176 [==============================] - 0s 2ms/step - loss: 0.3694 - accuracy: 0.8219\n",
            "Epoch 66/500\n",
            "176/176 [==============================] - 0s 2ms/step - loss: 0.3697 - accuracy: 0.8226\n",
            "Epoch 67/500\n",
            "176/176 [==============================] - 0s 2ms/step - loss: 0.3686 - accuracy: 0.8229\n",
            "Epoch 68/500\n",
            "176/176 [==============================] - 0s 2ms/step - loss: 0.3687 - accuracy: 0.8261\n",
            "Epoch 69/500\n",
            "176/176 [==============================] - 0s 2ms/step - loss: 0.3685 - accuracy: 0.8226\n",
            "Epoch 70/500\n",
            "176/176 [==============================] - 0s 2ms/step - loss: 0.3692 - accuracy: 0.8197\n",
            "Epoch 71/500\n",
            "176/176 [==============================] - 0s 2ms/step - loss: 0.3672 - accuracy: 0.8242\n",
            "Epoch 72/500\n",
            "176/176 [==============================] - 0s 2ms/step - loss: 0.3657 - accuracy: 0.8284\n",
            "Epoch 73/500\n",
            "176/176 [==============================] - 0s 2ms/step - loss: 0.3663 - accuracy: 0.8268\n",
            "Epoch 74/500\n",
            "176/176 [==============================] - 0s 2ms/step - loss: 0.3673 - accuracy: 0.8238\n",
            "Epoch 75/500\n",
            "176/176 [==============================] - 0s 2ms/step - loss: 0.3675 - accuracy: 0.8247\n",
            "Epoch 76/500\n",
            "176/176 [==============================] - 0s 2ms/step - loss: 0.3658 - accuracy: 0.8268\n",
            "Epoch 77/500\n",
            "176/176 [==============================] - 0s 2ms/step - loss: 0.3663 - accuracy: 0.8261\n",
            "Epoch 78/500\n",
            "176/176 [==============================] - 0s 2ms/step - loss: 0.3665 - accuracy: 0.8265\n",
            "Epoch 79/500\n",
            "176/176 [==============================] - 0s 2ms/step - loss: 0.3647 - accuracy: 0.8226\n",
            "Epoch 80/500\n",
            "176/176 [==============================] - 0s 2ms/step - loss: 0.3640 - accuracy: 0.8265\n",
            "Epoch 81/500\n",
            "176/176 [==============================] - 0s 2ms/step - loss: 0.3639 - accuracy: 0.8274\n",
            "Epoch 82/500\n",
            "176/176 [==============================] - 0s 2ms/step - loss: 0.3638 - accuracy: 0.8235\n",
            "Epoch 83/500\n",
            "176/176 [==============================] - 0s 2ms/step - loss: 0.3631 - accuracy: 0.8263\n",
            "Epoch 84/500\n",
            "176/176 [==============================] - 0s 2ms/step - loss: 0.3627 - accuracy: 0.8256\n",
            "Epoch 85/500\n",
            "176/176 [==============================] - 0s 2ms/step - loss: 0.3632 - accuracy: 0.8281\n",
            "Epoch 86/500\n",
            "176/176 [==============================] - 0s 2ms/step - loss: 0.3622 - accuracy: 0.8256\n",
            "Epoch 87/500\n",
            "176/176 [==============================] - 0s 2ms/step - loss: 0.3628 - accuracy: 0.8281\n",
            "Epoch 88/500\n",
            "176/176 [==============================] - 0s 2ms/step - loss: 0.3620 - accuracy: 0.8261\n",
            "Epoch 89/500\n",
            "176/176 [==============================] - 0s 2ms/step - loss: 0.3619 - accuracy: 0.8288\n",
            "Epoch 90/500\n",
            "176/176 [==============================] - 0s 2ms/step - loss: 0.3631 - accuracy: 0.8299\n",
            "Epoch 91/500\n",
            "176/176 [==============================] - 0s 2ms/step - loss: 0.3602 - accuracy: 0.8297\n",
            "Epoch 92/500\n",
            "176/176 [==============================] - 0s 2ms/step - loss: 0.3598 - accuracy: 0.8263\n",
            "Epoch 93/500\n",
            "176/176 [==============================] - 0s 2ms/step - loss: 0.3603 - accuracy: 0.8267\n",
            "Epoch 94/500\n",
            "176/176 [==============================] - 0s 2ms/step - loss: 0.3585 - accuracy: 0.8292\n",
            "Epoch 95/500\n",
            "176/176 [==============================] - 0s 2ms/step - loss: 0.3592 - accuracy: 0.8263\n",
            "Epoch 96/500\n",
            "176/176 [==============================] - 0s 2ms/step - loss: 0.3584 - accuracy: 0.8315\n",
            "Epoch 97/500\n",
            "176/176 [==============================] - 0s 2ms/step - loss: 0.3577 - accuracy: 0.8272\n",
            "Epoch 98/500\n",
            "176/176 [==============================] - 0s 2ms/step - loss: 0.3583 - accuracy: 0.8315\n",
            "Epoch 99/500\n",
            "176/176 [==============================] - 0s 2ms/step - loss: 0.3572 - accuracy: 0.8306\n",
            "Epoch 100/500\n",
            "176/176 [==============================] - 0s 2ms/step - loss: 0.3581 - accuracy: 0.8288\n",
            "Epoch 101/500\n",
            "176/176 [==============================] - 0s 2ms/step - loss: 0.3569 - accuracy: 0.8277\n",
            "Epoch 102/500\n",
            "176/176 [==============================] - 0s 2ms/step - loss: 0.3565 - accuracy: 0.8295\n",
            "Epoch 103/500\n",
            "176/176 [==============================] - 0s 2ms/step - loss: 0.3564 - accuracy: 0.8297\n",
            "Epoch 104/500\n",
            "176/176 [==============================] - 0s 2ms/step - loss: 0.3558 - accuracy: 0.8343\n",
            "Epoch 105/500\n",
            "176/176 [==============================] - 0s 2ms/step - loss: 0.3572 - accuracy: 0.8290\n",
            "Epoch 106/500\n",
            "176/176 [==============================] - 0s 2ms/step - loss: 0.3547 - accuracy: 0.8329\n",
            "Epoch 107/500\n",
            "176/176 [==============================] - 0s 2ms/step - loss: 0.3552 - accuracy: 0.8311\n",
            "Epoch 108/500\n",
            "176/176 [==============================] - 0s 2ms/step - loss: 0.3547 - accuracy: 0.8313\n",
            "Epoch 109/500\n",
            "176/176 [==============================] - 0s 2ms/step - loss: 0.3553 - accuracy: 0.8279\n",
            "Epoch 110/500\n",
            "176/176 [==============================] - 0s 2ms/step - loss: 0.3542 - accuracy: 0.8277\n",
            "Epoch 111/500\n",
            "176/176 [==============================] - 0s 2ms/step - loss: 0.3541 - accuracy: 0.8284\n",
            "Epoch 112/500\n",
            "176/176 [==============================] - 0s 2ms/step - loss: 0.3531 - accuracy: 0.8309\n",
            "Epoch 113/500\n",
            "176/176 [==============================] - 0s 2ms/step - loss: 0.3518 - accuracy: 0.8343\n",
            "Epoch 114/500\n",
            "176/176 [==============================] - 0s 2ms/step - loss: 0.3524 - accuracy: 0.8338\n",
            "Epoch 115/500\n",
            "176/176 [==============================] - 0s 2ms/step - loss: 0.3531 - accuracy: 0.8336\n",
            "Epoch 116/500\n",
            "176/176 [==============================] - 0s 2ms/step - loss: 0.3536 - accuracy: 0.8334\n",
            "Epoch 117/500\n",
            "176/176 [==============================] - 0s 2ms/step - loss: 0.3533 - accuracy: 0.8322\n",
            "Epoch 118/500\n",
            "176/176 [==============================] - 0s 2ms/step - loss: 0.3509 - accuracy: 0.8332\n",
            "Epoch 119/500\n",
            "176/176 [==============================] - 0s 2ms/step - loss: 0.3518 - accuracy: 0.8306\n",
            "Epoch 120/500\n",
            "176/176 [==============================] - 0s 2ms/step - loss: 0.3539 - accuracy: 0.8341\n",
            "Epoch 121/500\n",
            "176/176 [==============================] - 0s 2ms/step - loss: 0.3511 - accuracy: 0.8341\n",
            "Epoch 122/500\n",
            "176/176 [==============================] - 0s 2ms/step - loss: 0.3500 - accuracy: 0.8366\n",
            "Epoch 123/500\n",
            "176/176 [==============================] - 0s 2ms/step - loss: 0.3508 - accuracy: 0.8356\n",
            "Epoch 124/500\n",
            "176/176 [==============================] - 0s 2ms/step - loss: 0.3499 - accuracy: 0.8325\n",
            "Epoch 125/500\n",
            "176/176 [==============================] - 0s 2ms/step - loss: 0.3497 - accuracy: 0.8345\n",
            "Epoch 126/500\n",
            "176/176 [==============================] - 0s 2ms/step - loss: 0.3502 - accuracy: 0.8324\n",
            "Epoch 127/500\n",
            "176/176 [==============================] - 0s 2ms/step - loss: 0.3488 - accuracy: 0.8336\n",
            "Epoch 128/500\n",
            "176/176 [==============================] - 0s 2ms/step - loss: 0.3490 - accuracy: 0.8340\n",
            "Epoch 129/500\n",
            "176/176 [==============================] - 0s 2ms/step - loss: 0.3483 - accuracy: 0.8311\n",
            "Epoch 130/500\n",
            "176/176 [==============================] - 0s 2ms/step - loss: 0.3492 - accuracy: 0.8348\n",
            "Epoch 131/500\n",
            "176/176 [==============================] - 0s 2ms/step - loss: 0.3473 - accuracy: 0.8316\n",
            "Epoch 132/500\n",
            "176/176 [==============================] - 0s 2ms/step - loss: 0.3472 - accuracy: 0.8354\n",
            "Epoch 133/500\n",
            "176/176 [==============================] - 0s 2ms/step - loss: 0.3473 - accuracy: 0.8363\n",
            "Epoch 134/500\n",
            "176/176 [==============================] - 0s 2ms/step - loss: 0.3473 - accuracy: 0.8357\n",
            "Epoch 135/500\n",
            "176/176 [==============================] - 0s 2ms/step - loss: 0.3490 - accuracy: 0.8325\n",
            "Epoch 136/500\n",
            "176/176 [==============================] - 0s 2ms/step - loss: 0.3458 - accuracy: 0.8370\n",
            "Epoch 137/500\n",
            "176/176 [==============================] - 0s 2ms/step - loss: 0.3471 - accuracy: 0.8334\n",
            "Epoch 138/500\n",
            "176/176 [==============================] - 0s 2ms/step - loss: 0.3468 - accuracy: 0.8354\n",
            "Epoch 139/500\n",
            "176/176 [==============================] - 0s 2ms/step - loss: 0.3457 - accuracy: 0.8334\n",
            "Epoch 140/500\n",
            "176/176 [==============================] - 0s 2ms/step - loss: 0.3454 - accuracy: 0.8368\n",
            "Epoch 141/500\n",
            "176/176 [==============================] - 0s 2ms/step - loss: 0.3444 - accuracy: 0.8366\n",
            "Epoch 142/500\n",
            "176/176 [==============================] - 0s 2ms/step - loss: 0.3449 - accuracy: 0.8357\n",
            "Epoch 143/500\n",
            "176/176 [==============================] - 0s 2ms/step - loss: 0.3451 - accuracy: 0.8366\n",
            "Epoch 144/500\n",
            "176/176 [==============================] - 0s 2ms/step - loss: 0.3442 - accuracy: 0.8359\n",
            "Epoch 145/500\n",
            "176/176 [==============================] - 0s 2ms/step - loss: 0.3443 - accuracy: 0.8336\n",
            "Epoch 146/500\n",
            "176/176 [==============================] - 0s 2ms/step - loss: 0.3435 - accuracy: 0.8375\n",
            "Epoch 147/500\n",
            "176/176 [==============================] - 0s 2ms/step - loss: 0.3434 - accuracy: 0.8357\n",
            "Epoch 148/500\n",
            "176/176 [==============================] - 0s 2ms/step - loss: 0.3429 - accuracy: 0.8379\n",
            "Epoch 149/500\n",
            "176/176 [==============================] - 0s 2ms/step - loss: 0.3426 - accuracy: 0.8370\n",
            "Epoch 150/500\n",
            "176/176 [==============================] - 0s 2ms/step - loss: 0.3437 - accuracy: 0.8382\n",
            "Epoch 151/500\n",
            "176/176 [==============================] - 0s 2ms/step - loss: 0.3428 - accuracy: 0.8375\n",
            "Epoch 152/500\n",
            "176/176 [==============================] - 0s 2ms/step - loss: 0.3435 - accuracy: 0.8396\n",
            "Epoch 153/500\n",
            "176/176 [==============================] - 0s 2ms/step - loss: 0.3409 - accuracy: 0.8396\n",
            "Epoch 154/500\n",
            "176/176 [==============================] - 0s 2ms/step - loss: 0.3420 - accuracy: 0.8384\n",
            "Epoch 155/500\n",
            "176/176 [==============================] - 0s 2ms/step - loss: 0.3428 - accuracy: 0.8411\n",
            "Epoch 156/500\n",
            "176/176 [==============================] - 0s 2ms/step - loss: 0.3418 - accuracy: 0.8356\n",
            "Epoch 157/500\n",
            "176/176 [==============================] - 0s 2ms/step - loss: 0.3424 - accuracy: 0.8388\n",
            "Epoch 158/500\n",
            "176/176 [==============================] - 0s 2ms/step - loss: 0.3404 - accuracy: 0.8379\n",
            "Epoch 159/500\n",
            "176/176 [==============================] - 0s 2ms/step - loss: 0.3406 - accuracy: 0.8380\n",
            "Epoch 160/500\n",
            "176/176 [==============================] - 0s 2ms/step - loss: 0.3416 - accuracy: 0.8391\n",
            "Epoch 161/500\n",
            "176/176 [==============================] - 0s 2ms/step - loss: 0.3398 - accuracy: 0.8384\n",
            "Epoch 162/500\n",
            "176/176 [==============================] - 0s 2ms/step - loss: 0.3396 - accuracy: 0.8425\n",
            "Epoch 163/500\n",
            "176/176 [==============================] - 0s 2ms/step - loss: 0.3401 - accuracy: 0.8420\n",
            "Epoch 164/500\n",
            "176/176 [==============================] - 0s 2ms/step - loss: 0.3397 - accuracy: 0.8404\n",
            "Epoch 165/500\n",
            "176/176 [==============================] - 0s 2ms/step - loss: 0.3387 - accuracy: 0.8418\n",
            "Epoch 166/500\n",
            "176/176 [==============================] - 0s 2ms/step - loss: 0.3369 - accuracy: 0.8414\n",
            "Epoch 167/500\n",
            "176/176 [==============================] - 0s 2ms/step - loss: 0.3381 - accuracy: 0.8398\n",
            "Epoch 168/500\n",
            "176/176 [==============================] - 0s 2ms/step - loss: 0.3384 - accuracy: 0.8380\n",
            "Epoch 169/500\n",
            "176/176 [==============================] - 0s 2ms/step - loss: 0.3371 - accuracy: 0.8404\n",
            "Epoch 170/500\n",
            "176/176 [==============================] - 0s 2ms/step - loss: 0.3380 - accuracy: 0.8434\n",
            "Epoch 171/500\n",
            "176/176 [==============================] - 0s 2ms/step - loss: 0.3371 - accuracy: 0.8393\n",
            "Epoch 172/500\n",
            "176/176 [==============================] - 0s 2ms/step - loss: 0.3371 - accuracy: 0.8414\n",
            "Epoch 173/500\n",
            "176/176 [==============================] - 0s 2ms/step - loss: 0.3365 - accuracy: 0.8411\n",
            "Epoch 174/500\n",
            "176/176 [==============================] - 0s 2ms/step - loss: 0.3371 - accuracy: 0.8412\n",
            "Epoch 175/500\n",
            "176/176 [==============================] - 0s 2ms/step - loss: 0.3359 - accuracy: 0.8407\n",
            "Epoch 176/500\n",
            "176/176 [==============================] - 0s 2ms/step - loss: 0.3378 - accuracy: 0.8395\n",
            "Epoch 177/500\n",
            "176/176 [==============================] - 0s 2ms/step - loss: 0.3374 - accuracy: 0.8428\n",
            "Epoch 178/500\n",
            "176/176 [==============================] - 0s 2ms/step - loss: 0.3349 - accuracy: 0.8432\n",
            "Epoch 179/500\n",
            "176/176 [==============================] - 0s 2ms/step - loss: 0.3354 - accuracy: 0.8420\n",
            "Epoch 180/500\n",
            "176/176 [==============================] - 0s 2ms/step - loss: 0.3343 - accuracy: 0.8425\n",
            "Epoch 181/500\n",
            "176/176 [==============================] - 0s 2ms/step - loss: 0.3364 - accuracy: 0.8400\n",
            "Epoch 182/500\n",
            "176/176 [==============================] - 0s 2ms/step - loss: 0.3356 - accuracy: 0.8441\n",
            "Epoch 183/500\n",
            "176/176 [==============================] - 0s 2ms/step - loss: 0.3346 - accuracy: 0.8430\n",
            "Epoch 184/500\n",
            "176/176 [==============================] - 0s 2ms/step - loss: 0.3338 - accuracy: 0.8423\n",
            "Epoch 185/500\n",
            "176/176 [==============================] - 0s 2ms/step - loss: 0.3338 - accuracy: 0.8444\n",
            "Epoch 186/500\n",
            "176/176 [==============================] - 0s 2ms/step - loss: 0.3347 - accuracy: 0.8414\n",
            "Epoch 187/500\n",
            "176/176 [==============================] - 0s 2ms/step - loss: 0.3335 - accuracy: 0.8411\n",
            "Epoch 188/500\n",
            "176/176 [==============================] - 0s 2ms/step - loss: 0.3328 - accuracy: 0.8446\n",
            "Epoch 189/500\n",
            "176/176 [==============================] - 0s 2ms/step - loss: 0.3330 - accuracy: 0.8434\n",
            "Epoch 190/500\n",
            "176/176 [==============================] - 0s 2ms/step - loss: 0.3332 - accuracy: 0.8411\n",
            "Epoch 191/500\n",
            "176/176 [==============================] - 0s 2ms/step - loss: 0.3325 - accuracy: 0.8428\n",
            "Epoch 192/500\n",
            "176/176 [==============================] - 0s 2ms/step - loss: 0.3320 - accuracy: 0.8432\n",
            "Epoch 193/500\n",
            "176/176 [==============================] - 0s 2ms/step - loss: 0.3317 - accuracy: 0.8464\n",
            "Epoch 194/500\n",
            "176/176 [==============================] - 0s 2ms/step - loss: 0.3333 - accuracy: 0.8459\n",
            "Epoch 195/500\n",
            "176/176 [==============================] - 0s 2ms/step - loss: 0.3311 - accuracy: 0.8423\n",
            "Epoch 196/500\n",
            "176/176 [==============================] - 0s 2ms/step - loss: 0.3309 - accuracy: 0.8466\n",
            "Epoch 197/500\n",
            "176/176 [==============================] - 0s 2ms/step - loss: 0.3317 - accuracy: 0.8448\n",
            "Epoch 198/500\n",
            "176/176 [==============================] - 0s 2ms/step - loss: 0.3313 - accuracy: 0.8418\n",
            "Epoch 199/500\n",
            "176/176 [==============================] - 0s 2ms/step - loss: 0.3304 - accuracy: 0.8423\n",
            "Epoch 200/500\n",
            "176/176 [==============================] - 0s 2ms/step - loss: 0.3315 - accuracy: 0.8448\n",
            "Epoch 201/500\n",
            "176/176 [==============================] - 0s 2ms/step - loss: 0.3311 - accuracy: 0.8404\n",
            "Epoch 202/500\n",
            "176/176 [==============================] - 0s 2ms/step - loss: 0.3306 - accuracy: 0.8452\n",
            "Epoch 203/500\n",
            "176/176 [==============================] - 0s 2ms/step - loss: 0.3297 - accuracy: 0.8423\n",
            "Epoch 204/500\n",
            "176/176 [==============================] - 0s 2ms/step - loss: 0.3297 - accuracy: 0.8421\n",
            "Epoch 205/500\n",
            "176/176 [==============================] - 0s 2ms/step - loss: 0.3303 - accuracy: 0.8437\n",
            "Epoch 206/500\n",
            "176/176 [==============================] - 0s 2ms/step - loss: 0.3301 - accuracy: 0.8421\n",
            "Epoch 207/500\n",
            "176/176 [==============================] - 0s 2ms/step - loss: 0.3298 - accuracy: 0.8446\n",
            "Epoch 208/500\n",
            "176/176 [==============================] - 0s 2ms/step - loss: 0.3283 - accuracy: 0.8444\n",
            "Epoch 209/500\n",
            "176/176 [==============================] - 0s 2ms/step - loss: 0.3288 - accuracy: 0.8459\n",
            "Epoch 210/500\n",
            "176/176 [==============================] - 0s 2ms/step - loss: 0.3278 - accuracy: 0.8452\n",
            "Epoch 211/500\n",
            "176/176 [==============================] - 0s 2ms/step - loss: 0.3286 - accuracy: 0.8444\n",
            "Epoch 212/500\n",
            "176/176 [==============================] - 0s 2ms/step - loss: 0.3290 - accuracy: 0.8427\n",
            "Epoch 213/500\n",
            "176/176 [==============================] - 0s 2ms/step - loss: 0.3278 - accuracy: 0.8443\n",
            "Epoch 214/500\n",
            "176/176 [==============================] - 0s 2ms/step - loss: 0.3273 - accuracy: 0.8436\n",
            "Epoch 215/500\n",
            "176/176 [==============================] - 0s 2ms/step - loss: 0.3279 - accuracy: 0.8453\n",
            "Epoch 216/500\n",
            "176/176 [==============================] - 0s 2ms/step - loss: 0.3286 - accuracy: 0.8439\n",
            "Epoch 217/500\n",
            "176/176 [==============================] - 0s 2ms/step - loss: 0.3271 - accuracy: 0.8453\n",
            "Epoch 218/500\n",
            "176/176 [==============================] - 0s 2ms/step - loss: 0.3294 - accuracy: 0.8432\n",
            "Epoch 219/500\n",
            "176/176 [==============================] - 0s 2ms/step - loss: 0.3263 - accuracy: 0.8457\n",
            "Epoch 220/500\n",
            "176/176 [==============================] - 0s 2ms/step - loss: 0.3277 - accuracy: 0.8450\n",
            "Epoch 221/500\n",
            "176/176 [==============================] - 0s 2ms/step - loss: 0.3253 - accuracy: 0.8471\n",
            "Epoch 222/500\n",
            "176/176 [==============================] - 0s 2ms/step - loss: 0.3266 - accuracy: 0.8444\n",
            "Epoch 223/500\n",
            "176/176 [==============================] - 0s 2ms/step - loss: 0.3255 - accuracy: 0.8437\n",
            "Epoch 224/500\n",
            "176/176 [==============================] - 0s 2ms/step - loss: 0.3263 - accuracy: 0.8434\n",
            "Epoch 225/500\n",
            "176/176 [==============================] - 0s 2ms/step - loss: 0.3272 - accuracy: 0.8462\n",
            "Epoch 226/500\n",
            "176/176 [==============================] - 0s 2ms/step - loss: 0.3269 - accuracy: 0.8432\n",
            "Epoch 227/500\n",
            "176/176 [==============================] - 0s 2ms/step - loss: 0.3247 - accuracy: 0.8478\n",
            "Epoch 228/500\n",
            "176/176 [==============================] - 0s 2ms/step - loss: 0.3252 - accuracy: 0.8453\n",
            "Epoch 229/500\n",
            "176/176 [==============================] - 0s 2ms/step - loss: 0.3250 - accuracy: 0.8455\n",
            "Epoch 230/500\n",
            "176/176 [==============================] - 0s 2ms/step - loss: 0.3251 - accuracy: 0.8460\n",
            "Epoch 231/500\n",
            "176/176 [==============================] - 0s 2ms/step - loss: 0.3253 - accuracy: 0.8475\n",
            "Epoch 232/500\n",
            "176/176 [==============================] - 0s 2ms/step - loss: 0.3244 - accuracy: 0.8482\n",
            "Epoch 233/500\n",
            "176/176 [==============================] - 0s 2ms/step - loss: 0.3247 - accuracy: 0.8468\n",
            "Epoch 234/500\n",
            "176/176 [==============================] - 0s 2ms/step - loss: 0.3253 - accuracy: 0.8441\n",
            "Epoch 235/500\n",
            "176/176 [==============================] - 0s 2ms/step - loss: 0.3245 - accuracy: 0.8489\n",
            "Epoch 236/500\n",
            "176/176 [==============================] - 0s 2ms/step - loss: 0.3247 - accuracy: 0.8478\n",
            "Epoch 237/500\n",
            "176/176 [==============================] - 0s 2ms/step - loss: 0.3236 - accuracy: 0.8498\n",
            "Epoch 238/500\n",
            "176/176 [==============================] - 0s 2ms/step - loss: 0.3241 - accuracy: 0.8507\n",
            "Epoch 239/500\n",
            "176/176 [==============================] - 0s 2ms/step - loss: 0.3238 - accuracy: 0.8462\n",
            "Epoch 240/500\n",
            "176/176 [==============================] - 0s 2ms/step - loss: 0.3239 - accuracy: 0.8468\n",
            "Epoch 241/500\n",
            "176/176 [==============================] - 0s 2ms/step - loss: 0.3238 - accuracy: 0.8441\n",
            "Epoch 242/500\n",
            "176/176 [==============================] - 0s 2ms/step - loss: 0.3255 - accuracy: 0.8462\n",
            "Epoch 243/500\n",
            "176/176 [==============================] - 0s 2ms/step - loss: 0.3232 - accuracy: 0.8469\n",
            "Epoch 244/500\n",
            "176/176 [==============================] - 0s 2ms/step - loss: 0.3237 - accuracy: 0.8485\n",
            "Epoch 245/500\n",
            "176/176 [==============================] - 0s 2ms/step - loss: 0.3227 - accuracy: 0.8469\n",
            "Epoch 246/500\n",
            "176/176 [==============================] - 0s 2ms/step - loss: 0.3229 - accuracy: 0.8457\n",
            "Epoch 247/500\n",
            "176/176 [==============================] - 0s 2ms/step - loss: 0.3211 - accuracy: 0.8498\n",
            "Epoch 248/500\n",
            "176/176 [==============================] - 0s 2ms/step - loss: 0.3220 - accuracy: 0.8460\n",
            "Epoch 249/500\n",
            "176/176 [==============================] - 0s 2ms/step - loss: 0.3226 - accuracy: 0.8480\n",
            "Epoch 250/500\n",
            "176/176 [==============================] - 0s 2ms/step - loss: 0.3224 - accuracy: 0.8464\n",
            "Epoch 251/500\n",
            "176/176 [==============================] - 0s 2ms/step - loss: 0.3213 - accuracy: 0.8491\n",
            "Epoch 252/500\n",
            "176/176 [==============================] - 0s 2ms/step - loss: 0.3210 - accuracy: 0.8501\n",
            "Epoch 253/500\n",
            "176/176 [==============================] - 0s 2ms/step - loss: 0.3222 - accuracy: 0.8471\n",
            "Epoch 254/500\n",
            "176/176 [==============================] - 0s 2ms/step - loss: 0.3218 - accuracy: 0.8489\n",
            "Epoch 255/500\n",
            "176/176 [==============================] - 0s 2ms/step - loss: 0.3212 - accuracy: 0.8473\n",
            "Epoch 256/500\n",
            "176/176 [==============================] - 0s 2ms/step - loss: 0.3209 - accuracy: 0.8469\n",
            "Epoch 257/500\n",
            "176/176 [==============================] - 0s 2ms/step - loss: 0.3199 - accuracy: 0.8471\n",
            "Epoch 258/500\n",
            "176/176 [==============================] - 0s 2ms/step - loss: 0.3210 - accuracy: 0.8492\n",
            "Epoch 259/500\n",
            "176/176 [==============================] - 0s 2ms/step - loss: 0.3193 - accuracy: 0.8491\n",
            "Epoch 260/500\n",
            "176/176 [==============================] - 0s 2ms/step - loss: 0.3188 - accuracy: 0.8492\n",
            "Epoch 261/500\n",
            "176/176 [==============================] - 0s 2ms/step - loss: 0.3193 - accuracy: 0.8510\n",
            "Epoch 262/500\n",
            "176/176 [==============================] - 0s 2ms/step - loss: 0.3214 - accuracy: 0.8501\n",
            "Epoch 263/500\n",
            "176/176 [==============================] - 0s 2ms/step - loss: 0.3198 - accuracy: 0.8503\n",
            "Epoch 264/500\n",
            "176/176 [==============================] - 0s 2ms/step - loss: 0.3198 - accuracy: 0.8466\n",
            "Epoch 265/500\n",
            "176/176 [==============================] - 0s 2ms/step - loss: 0.3200 - accuracy: 0.8487\n",
            "Epoch 266/500\n",
            "176/176 [==============================] - 0s 2ms/step - loss: 0.3188 - accuracy: 0.8503\n",
            "Epoch 267/500\n",
            "176/176 [==============================] - 0s 2ms/step - loss: 0.3186 - accuracy: 0.8514\n",
            "Epoch 268/500\n",
            "176/176 [==============================] - 0s 2ms/step - loss: 0.3190 - accuracy: 0.8510\n",
            "Epoch 269/500\n",
            "176/176 [==============================] - 0s 2ms/step - loss: 0.3188 - accuracy: 0.8514\n",
            "Epoch 270/500\n",
            "176/176 [==============================] - 0s 2ms/step - loss: 0.3188 - accuracy: 0.8484\n",
            "Epoch 271/500\n",
            "176/176 [==============================] - 0s 2ms/step - loss: 0.3183 - accuracy: 0.8492\n",
            "Epoch 272/500\n",
            "176/176 [==============================] - 0s 2ms/step - loss: 0.3166 - accuracy: 0.8521\n",
            "Epoch 273/500\n",
            "176/176 [==============================] - 0s 2ms/step - loss: 0.3172 - accuracy: 0.8514\n",
            "Epoch 274/500\n",
            "176/176 [==============================] - 0s 2ms/step - loss: 0.3191 - accuracy: 0.8501\n",
            "Epoch 275/500\n",
            "176/176 [==============================] - 0s 2ms/step - loss: 0.3180 - accuracy: 0.8492\n",
            "Epoch 276/500\n",
            "176/176 [==============================] - 0s 2ms/step - loss: 0.3182 - accuracy: 0.8510\n",
            "Epoch 277/500\n",
            "176/176 [==============================] - 0s 2ms/step - loss: 0.3183 - accuracy: 0.8489\n",
            "Epoch 278/500\n",
            "176/176 [==============================] - 0s 2ms/step - loss: 0.3162 - accuracy: 0.8489\n",
            "Epoch 279/500\n",
            "176/176 [==============================] - 0s 2ms/step - loss: 0.3174 - accuracy: 0.8517\n",
            "Epoch 280/500\n",
            "176/176 [==============================] - 0s 2ms/step - loss: 0.3161 - accuracy: 0.8533\n",
            "Epoch 281/500\n",
            "176/176 [==============================] - 0s 2ms/step - loss: 0.3184 - accuracy: 0.8478\n",
            "Epoch 282/500\n",
            "176/176 [==============================] - 0s 2ms/step - loss: 0.3178 - accuracy: 0.8482\n",
            "Epoch 283/500\n",
            "176/176 [==============================] - 0s 2ms/step - loss: 0.3161 - accuracy: 0.8530\n",
            "Epoch 284/500\n",
            "176/176 [==============================] - 0s 2ms/step - loss: 0.3160 - accuracy: 0.8532\n",
            "Epoch 285/500\n",
            "176/176 [==============================] - 0s 2ms/step - loss: 0.3158 - accuracy: 0.8507\n",
            "Epoch 286/500\n",
            "176/176 [==============================] - 0s 2ms/step - loss: 0.3154 - accuracy: 0.8498\n",
            "Epoch 287/500\n",
            "176/176 [==============================] - 0s 2ms/step - loss: 0.3188 - accuracy: 0.8471\n",
            "Epoch 288/500\n",
            "176/176 [==============================] - 0s 2ms/step - loss: 0.3145 - accuracy: 0.8508\n",
            "Epoch 289/500\n",
            "176/176 [==============================] - 0s 2ms/step - loss: 0.3162 - accuracy: 0.8476\n",
            "Epoch 290/500\n",
            "176/176 [==============================] - 0s 2ms/step - loss: 0.3152 - accuracy: 0.8512\n",
            "Epoch 291/500\n",
            "176/176 [==============================] - 0s 2ms/step - loss: 0.3151 - accuracy: 0.8510\n",
            "Epoch 292/500\n",
            "176/176 [==============================] - 0s 2ms/step - loss: 0.3153 - accuracy: 0.8514\n",
            "Epoch 293/500\n",
            "176/176 [==============================] - 0s 2ms/step - loss: 0.3150 - accuracy: 0.8521\n",
            "Epoch 294/500\n",
            "176/176 [==============================] - 0s 2ms/step - loss: 0.3159 - accuracy: 0.8487\n",
            "Epoch 295/500\n",
            "176/176 [==============================] - 0s 2ms/step - loss: 0.3146 - accuracy: 0.8496\n",
            "Epoch 296/500\n",
            "176/176 [==============================] - 0s 2ms/step - loss: 0.3144 - accuracy: 0.8533\n",
            "Epoch 297/500\n",
            "176/176 [==============================] - 0s 2ms/step - loss: 0.3149 - accuracy: 0.8489\n",
            "Epoch 298/500\n",
            "176/176 [==============================] - 0s 2ms/step - loss: 0.3140 - accuracy: 0.8533\n",
            "Epoch 299/500\n",
            "176/176 [==============================] - 0s 2ms/step - loss: 0.3148 - accuracy: 0.8512\n",
            "Epoch 300/500\n",
            "176/176 [==============================] - 0s 2ms/step - loss: 0.3137 - accuracy: 0.8526\n",
            "Epoch 301/500\n",
            "176/176 [==============================] - 0s 2ms/step - loss: 0.3137 - accuracy: 0.8505\n",
            "Epoch 302/500\n",
            "176/176 [==============================] - 0s 2ms/step - loss: 0.3140 - accuracy: 0.8528\n",
            "Epoch 303/500\n",
            "176/176 [==============================] - 0s 2ms/step - loss: 0.3152 - accuracy: 0.8500\n",
            "Epoch 304/500\n",
            "176/176 [==============================] - 0s 2ms/step - loss: 0.3134 - accuracy: 0.8503\n",
            "Epoch 305/500\n",
            "176/176 [==============================] - 0s 2ms/step - loss: 0.3127 - accuracy: 0.8528\n",
            "Epoch 306/500\n",
            "176/176 [==============================] - 0s 2ms/step - loss: 0.3147 - accuracy: 0.8498\n",
            "Epoch 307/500\n",
            "176/176 [==============================] - 0s 2ms/step - loss: 0.3132 - accuracy: 0.8482\n",
            "Epoch 308/500\n",
            "176/176 [==============================] - 0s 2ms/step - loss: 0.3120 - accuracy: 0.8523\n",
            "Epoch 309/500\n",
            "176/176 [==============================] - 0s 2ms/step - loss: 0.3111 - accuracy: 0.8519\n",
            "Epoch 310/500\n",
            "176/176 [==============================] - 0s 2ms/step - loss: 0.3125 - accuracy: 0.8533\n",
            "Epoch 311/500\n",
            "176/176 [==============================] - 0s 2ms/step - loss: 0.3118 - accuracy: 0.8548\n",
            "Epoch 312/500\n",
            "176/176 [==============================] - 0s 2ms/step - loss: 0.3138 - accuracy: 0.8512\n",
            "Epoch 313/500\n",
            "176/176 [==============================] - 0s 2ms/step - loss: 0.3129 - accuracy: 0.8521\n",
            "Epoch 314/500\n",
            "176/176 [==============================] - 0s 2ms/step - loss: 0.3120 - accuracy: 0.8548\n",
            "Epoch 315/500\n",
            "176/176 [==============================] - 0s 2ms/step - loss: 0.3113 - accuracy: 0.8535\n",
            "Epoch 316/500\n",
            "176/176 [==============================] - 0s 2ms/step - loss: 0.3111 - accuracy: 0.8548\n",
            "Epoch 317/500\n",
            "176/176 [==============================] - 0s 2ms/step - loss: 0.3112 - accuracy: 0.8521\n",
            "Epoch 318/500\n",
            "176/176 [==============================] - 0s 2ms/step - loss: 0.3116 - accuracy: 0.8555\n",
            "Epoch 319/500\n",
            "176/176 [==============================] - 0s 2ms/step - loss: 0.3113 - accuracy: 0.8519\n",
            "Epoch 320/500\n",
            "176/176 [==============================] - 0s 2ms/step - loss: 0.3116 - accuracy: 0.8549\n",
            "Epoch 321/500\n",
            "176/176 [==============================] - 0s 2ms/step - loss: 0.3108 - accuracy: 0.8526\n",
            "Epoch 322/500\n",
            "176/176 [==============================] - 0s 2ms/step - loss: 0.3114 - accuracy: 0.8512\n",
            "Epoch 323/500\n",
            "176/176 [==============================] - 0s 2ms/step - loss: 0.3115 - accuracy: 0.8532\n",
            "Epoch 324/500\n",
            "176/176 [==============================] - 0s 2ms/step - loss: 0.3097 - accuracy: 0.8553\n",
            "Epoch 325/500\n",
            "176/176 [==============================] - 0s 2ms/step - loss: 0.3113 - accuracy: 0.8508\n",
            "Epoch 326/500\n",
            "176/176 [==============================] - 0s 2ms/step - loss: 0.3101 - accuracy: 0.8537\n",
            "Epoch 327/500\n",
            "176/176 [==============================] - 0s 2ms/step - loss: 0.3111 - accuracy: 0.8539\n",
            "Epoch 328/500\n",
            "176/176 [==============================] - 0s 2ms/step - loss: 0.3107 - accuracy: 0.8560\n",
            "Epoch 329/500\n",
            "176/176 [==============================] - 0s 2ms/step - loss: 0.3104 - accuracy: 0.8491\n",
            "Epoch 330/500\n",
            "176/176 [==============================] - 0s 2ms/step - loss: 0.3108 - accuracy: 0.8539\n",
            "Epoch 331/500\n",
            "176/176 [==============================] - 0s 2ms/step - loss: 0.3094 - accuracy: 0.8519\n",
            "Epoch 332/500\n",
            "176/176 [==============================] - 0s 2ms/step - loss: 0.3097 - accuracy: 0.8548\n",
            "Epoch 333/500\n",
            "176/176 [==============================] - 0s 2ms/step - loss: 0.3095 - accuracy: 0.8517\n",
            "Epoch 334/500\n",
            "176/176 [==============================] - 0s 2ms/step - loss: 0.3086 - accuracy: 0.8564\n",
            "Epoch 335/500\n",
            "176/176 [==============================] - 0s 2ms/step - loss: 0.3081 - accuracy: 0.8567\n",
            "Epoch 336/500\n",
            "176/176 [==============================] - 0s 2ms/step - loss: 0.3110 - accuracy: 0.8542\n",
            "Epoch 337/500\n",
            "176/176 [==============================] - 0s 2ms/step - loss: 0.3087 - accuracy: 0.8544\n",
            "Epoch 338/500\n",
            "176/176 [==============================] - 0s 2ms/step - loss: 0.3094 - accuracy: 0.8539\n",
            "Epoch 339/500\n",
            "176/176 [==============================] - 0s 2ms/step - loss: 0.3097 - accuracy: 0.8592\n",
            "Epoch 340/500\n",
            "176/176 [==============================] - 0s 2ms/step - loss: 0.3088 - accuracy: 0.8530\n",
            "Epoch 341/500\n",
            "176/176 [==============================] - 0s 2ms/step - loss: 0.3096 - accuracy: 0.8530\n",
            "Epoch 342/500\n",
            "176/176 [==============================] - 0s 2ms/step - loss: 0.3087 - accuracy: 0.8540\n",
            "Epoch 343/500\n",
            "176/176 [==============================] - 0s 2ms/step - loss: 0.3089 - accuracy: 0.8576\n",
            "Epoch 344/500\n",
            "176/176 [==============================] - 0s 2ms/step - loss: 0.3074 - accuracy: 0.8558\n",
            "Epoch 345/500\n",
            "176/176 [==============================] - 0s 2ms/step - loss: 0.3085 - accuracy: 0.8537\n",
            "Epoch 346/500\n",
            "176/176 [==============================] - 0s 2ms/step - loss: 0.3087 - accuracy: 0.8533\n",
            "Epoch 347/500\n",
            "176/176 [==============================] - 0s 2ms/step - loss: 0.3086 - accuracy: 0.8530\n",
            "Epoch 348/500\n",
            "176/176 [==============================] - 0s 2ms/step - loss: 0.3074 - accuracy: 0.8521\n",
            "Epoch 349/500\n",
            "176/176 [==============================] - 0s 2ms/step - loss: 0.3061 - accuracy: 0.8571\n",
            "Epoch 350/500\n",
            "176/176 [==============================] - 0s 2ms/step - loss: 0.3085 - accuracy: 0.8535\n",
            "Epoch 351/500\n",
            "176/176 [==============================] - 0s 2ms/step - loss: 0.3072 - accuracy: 0.8533\n",
            "Epoch 352/500\n",
            "176/176 [==============================] - 0s 2ms/step - loss: 0.3077 - accuracy: 0.8551\n",
            "Epoch 353/500\n",
            "176/176 [==============================] - 0s 2ms/step - loss: 0.3069 - accuracy: 0.8564\n",
            "Epoch 354/500\n",
            "176/176 [==============================] - 0s 2ms/step - loss: 0.3058 - accuracy: 0.8585\n",
            "Epoch 355/500\n",
            "176/176 [==============================] - 0s 2ms/step - loss: 0.3070 - accuracy: 0.8528\n",
            "Epoch 356/500\n",
            "176/176 [==============================] - 0s 2ms/step - loss: 0.3065 - accuracy: 0.8560\n",
            "Epoch 357/500\n",
            "176/176 [==============================] - 0s 2ms/step - loss: 0.3069 - accuracy: 0.8574\n",
            "Epoch 358/500\n",
            "176/176 [==============================] - 0s 2ms/step - loss: 0.3065 - accuracy: 0.8574\n",
            "Epoch 359/500\n",
            "176/176 [==============================] - 0s 2ms/step - loss: 0.3081 - accuracy: 0.8549\n",
            "Epoch 360/500\n",
            "176/176 [==============================] - 0s 2ms/step - loss: 0.3058 - accuracy: 0.8564\n",
            "Epoch 361/500\n",
            "176/176 [==============================] - 0s 2ms/step - loss: 0.3084 - accuracy: 0.8535\n",
            "Epoch 362/500\n",
            "176/176 [==============================] - 0s 2ms/step - loss: 0.3067 - accuracy: 0.8544\n",
            "Epoch 363/500\n",
            "176/176 [==============================] - 0s 2ms/step - loss: 0.3060 - accuracy: 0.8576\n",
            "Epoch 364/500\n",
            "176/176 [==============================] - 0s 2ms/step - loss: 0.3059 - accuracy: 0.8578\n",
            "Epoch 365/500\n",
            "176/176 [==============================] - 0s 2ms/step - loss: 0.3057 - accuracy: 0.8530\n",
            "Epoch 366/500\n",
            "176/176 [==============================] - 0s 2ms/step - loss: 0.3071 - accuracy: 0.8546\n",
            "Epoch 367/500\n",
            "176/176 [==============================] - 0s 2ms/step - loss: 0.3074 - accuracy: 0.8564\n",
            "Epoch 368/500\n",
            "176/176 [==============================] - 0s 2ms/step - loss: 0.3051 - accuracy: 0.8565\n",
            "Epoch 369/500\n",
            "176/176 [==============================] - 0s 2ms/step - loss: 0.3049 - accuracy: 0.8564\n",
            "Epoch 370/500\n",
            "176/176 [==============================] - 0s 2ms/step - loss: 0.3045 - accuracy: 0.8548\n",
            "Epoch 371/500\n",
            "176/176 [==============================] - 0s 2ms/step - loss: 0.3049 - accuracy: 0.8535\n",
            "Epoch 372/500\n",
            "176/176 [==============================] - 0s 2ms/step - loss: 0.3055 - accuracy: 0.8569\n",
            "Epoch 373/500\n",
            "176/176 [==============================] - 0s 2ms/step - loss: 0.3052 - accuracy: 0.8574\n",
            "Epoch 374/500\n",
            "176/176 [==============================] - 0s 2ms/step - loss: 0.3053 - accuracy: 0.8562\n",
            "Epoch 375/500\n",
            "176/176 [==============================] - 0s 2ms/step - loss: 0.3042 - accuracy: 0.8571\n",
            "Epoch 376/500\n",
            "176/176 [==============================] - 0s 2ms/step - loss: 0.3054 - accuracy: 0.8537\n",
            "Epoch 377/500\n",
            "176/176 [==============================] - 0s 2ms/step - loss: 0.3050 - accuracy: 0.8594\n",
            "Epoch 378/500\n",
            "176/176 [==============================] - 0s 2ms/step - loss: 0.3075 - accuracy: 0.8565\n",
            "Epoch 379/500\n",
            "176/176 [==============================] - 0s 2ms/step - loss: 0.3038 - accuracy: 0.8576\n",
            "Epoch 380/500\n",
            "176/176 [==============================] - 0s 2ms/step - loss: 0.3025 - accuracy: 0.8576\n",
            "Epoch 381/500\n",
            "176/176 [==============================] - 0s 2ms/step - loss: 0.3043 - accuracy: 0.8572\n",
            "Epoch 382/500\n",
            "176/176 [==============================] - 0s 2ms/step - loss: 0.3047 - accuracy: 0.8546\n",
            "Epoch 383/500\n",
            "176/176 [==============================] - 0s 2ms/step - loss: 0.3029 - accuracy: 0.8587\n",
            "Epoch 384/500\n",
            "176/176 [==============================] - 0s 2ms/step - loss: 0.3037 - accuracy: 0.8553\n",
            "Epoch 385/500\n",
            "176/176 [==============================] - 0s 2ms/step - loss: 0.3037 - accuracy: 0.8562\n",
            "Epoch 386/500\n",
            "176/176 [==============================] - 0s 2ms/step - loss: 0.3074 - accuracy: 0.8562\n",
            "Epoch 387/500\n",
            "176/176 [==============================] - 0s 2ms/step - loss: 0.3043 - accuracy: 0.8574\n",
            "Epoch 388/500\n",
            "176/176 [==============================] - 0s 2ms/step - loss: 0.3035 - accuracy: 0.8574\n",
            "Epoch 389/500\n",
            "176/176 [==============================] - 0s 2ms/step - loss: 0.3044 - accuracy: 0.8572\n",
            "Epoch 390/500\n",
            "176/176 [==============================] - 0s 2ms/step - loss: 0.3042 - accuracy: 0.8574\n",
            "Epoch 391/500\n",
            "176/176 [==============================] - 0s 2ms/step - loss: 0.3057 - accuracy: 0.8542\n",
            "Epoch 392/500\n",
            "176/176 [==============================] - 0s 2ms/step - loss: 0.3032 - accuracy: 0.8587\n",
            "Epoch 393/500\n",
            "176/176 [==============================] - 0s 2ms/step - loss: 0.3028 - accuracy: 0.8578\n",
            "Epoch 394/500\n",
            "176/176 [==============================] - 0s 2ms/step - loss: 0.3040 - accuracy: 0.8558\n",
            "Epoch 395/500\n",
            "176/176 [==============================] - 0s 2ms/step - loss: 0.3042 - accuracy: 0.8572\n",
            "Epoch 396/500\n",
            "176/176 [==============================] - 0s 2ms/step - loss: 0.3025 - accuracy: 0.8564\n",
            "Epoch 397/500\n",
            "176/176 [==============================] - 0s 2ms/step - loss: 0.3028 - accuracy: 0.8571\n",
            "Epoch 398/500\n",
            "176/176 [==============================] - 0s 2ms/step - loss: 0.3016 - accuracy: 0.8567\n",
            "Epoch 399/500\n",
            "176/176 [==============================] - 0s 2ms/step - loss: 0.3018 - accuracy: 0.8562\n",
            "Epoch 400/500\n",
            "176/176 [==============================] - 0s 2ms/step - loss: 0.3037 - accuracy: 0.8553\n",
            "Epoch 401/500\n",
            "176/176 [==============================] - 0s 2ms/step - loss: 0.3040 - accuracy: 0.8578\n",
            "Epoch 402/500\n",
            "176/176 [==============================] - 0s 2ms/step - loss: 0.3012 - accuracy: 0.8583\n",
            "Epoch 403/500\n",
            "176/176 [==============================] - 0s 2ms/step - loss: 0.3018 - accuracy: 0.8588\n",
            "Epoch 404/500\n",
            "176/176 [==============================] - 0s 2ms/step - loss: 0.3013 - accuracy: 0.8576\n",
            "Epoch 405/500\n",
            "176/176 [==============================] - 0s 2ms/step - loss: 0.3014 - accuracy: 0.8626\n",
            "Epoch 406/500\n",
            "176/176 [==============================] - 0s 2ms/step - loss: 0.3010 - accuracy: 0.8601\n",
            "Epoch 407/500\n",
            "176/176 [==============================] - 0s 2ms/step - loss: 0.3022 - accuracy: 0.8587\n",
            "Epoch 408/500\n",
            "176/176 [==============================] - 0s 2ms/step - loss: 0.3030 - accuracy: 0.8556\n",
            "Epoch 409/500\n",
            "176/176 [==============================] - 0s 2ms/step - loss: 0.3027 - accuracy: 0.8556\n",
            "Epoch 410/500\n",
            "176/176 [==============================] - 0s 2ms/step - loss: 0.3031 - accuracy: 0.8583\n",
            "Epoch 411/500\n",
            "176/176 [==============================] - 0s 2ms/step - loss: 0.3039 - accuracy: 0.8585\n",
            "Epoch 412/500\n",
            "176/176 [==============================] - 0s 2ms/step - loss: 0.3009 - accuracy: 0.8592\n",
            "Epoch 413/500\n",
            "176/176 [==============================] - 0s 2ms/step - loss: 0.3014 - accuracy: 0.8565\n",
            "Epoch 414/500\n",
            "176/176 [==============================] - 0s 2ms/step - loss: 0.3031 - accuracy: 0.8560\n",
            "Epoch 415/500\n",
            "176/176 [==============================] - 0s 2ms/step - loss: 0.3004 - accuracy: 0.8592\n",
            "Epoch 416/500\n",
            "176/176 [==============================] - 0s 2ms/step - loss: 0.3009 - accuracy: 0.8588\n",
            "Epoch 417/500\n",
            "176/176 [==============================] - 0s 2ms/step - loss: 0.3007 - accuracy: 0.8574\n",
            "Epoch 418/500\n",
            "176/176 [==============================] - 0s 2ms/step - loss: 0.3019 - accuracy: 0.8578\n",
            "Epoch 419/500\n",
            "176/176 [==============================] - 0s 2ms/step - loss: 0.2996 - accuracy: 0.8587\n",
            "Epoch 420/500\n",
            "176/176 [==============================] - 0s 2ms/step - loss: 0.3025 - accuracy: 0.8551\n",
            "Epoch 421/500\n",
            "176/176 [==============================] - 0s 2ms/step - loss: 0.3002 - accuracy: 0.8617\n",
            "Epoch 422/500\n",
            "176/176 [==============================] - 0s 2ms/step - loss: 0.3021 - accuracy: 0.8578\n",
            "Epoch 423/500\n",
            "176/176 [==============================] - 0s 2ms/step - loss: 0.3015 - accuracy: 0.8596\n",
            "Epoch 424/500\n",
            "176/176 [==============================] - 0s 2ms/step - loss: 0.3035 - accuracy: 0.8556\n",
            "Epoch 425/500\n",
            "176/176 [==============================] - 0s 2ms/step - loss: 0.3005 - accuracy: 0.8555\n",
            "Epoch 426/500\n",
            "176/176 [==============================] - 0s 2ms/step - loss: 0.3006 - accuracy: 0.8590\n",
            "Epoch 427/500\n",
            "176/176 [==============================] - 0s 2ms/step - loss: 0.3017 - accuracy: 0.8565\n",
            "Epoch 428/500\n",
            "176/176 [==============================] - 0s 2ms/step - loss: 0.3000 - accuracy: 0.8599\n",
            "Epoch 429/500\n",
            "176/176 [==============================] - 0s 2ms/step - loss: 0.3019 - accuracy: 0.8604\n",
            "Epoch 430/500\n",
            "176/176 [==============================] - 0s 2ms/step - loss: 0.3012 - accuracy: 0.8569\n",
            "Epoch 431/500\n",
            "176/176 [==============================] - 0s 2ms/step - loss: 0.3002 - accuracy: 0.8580\n",
            "Epoch 432/500\n",
            "176/176 [==============================] - 0s 2ms/step - loss: 0.2999 - accuracy: 0.8601\n",
            "Epoch 433/500\n",
            "176/176 [==============================] - 0s 2ms/step - loss: 0.3012 - accuracy: 0.8562\n",
            "Epoch 434/500\n",
            "176/176 [==============================] - 0s 2ms/step - loss: 0.3016 - accuracy: 0.8562\n",
            "Epoch 435/500\n",
            "176/176 [==============================] - 0s 2ms/step - loss: 0.3004 - accuracy: 0.8567\n",
            "Epoch 436/500\n",
            "176/176 [==============================] - 0s 2ms/step - loss: 0.3024 - accuracy: 0.8578\n",
            "Epoch 437/500\n",
            "176/176 [==============================] - 0s 2ms/step - loss: 0.3011 - accuracy: 0.8583\n",
            "Epoch 438/500\n",
            "176/176 [==============================] - 0s 2ms/step - loss: 0.2985 - accuracy: 0.8585\n",
            "Epoch 439/500\n",
            "176/176 [==============================] - 0s 2ms/step - loss: 0.3000 - accuracy: 0.8620\n",
            "Epoch 440/500\n",
            "176/176 [==============================] - 0s 2ms/step - loss: 0.2984 - accuracy: 0.8631\n",
            "Epoch 441/500\n",
            "176/176 [==============================] - 0s 2ms/step - loss: 0.3006 - accuracy: 0.8580\n",
            "Epoch 442/500\n",
            "176/176 [==============================] - 0s 2ms/step - loss: 0.2997 - accuracy: 0.8572\n",
            "Epoch 443/500\n",
            "176/176 [==============================] - 0s 2ms/step - loss: 0.2986 - accuracy: 0.8594\n",
            "Epoch 444/500\n",
            "176/176 [==============================] - 0s 2ms/step - loss: 0.2994 - accuracy: 0.8642\n",
            "Epoch 445/500\n",
            "176/176 [==============================] - 0s 2ms/step - loss: 0.2991 - accuracy: 0.8587\n",
            "Epoch 446/500\n",
            "176/176 [==============================] - 0s 2ms/step - loss: 0.2989 - accuracy: 0.8617\n",
            "Epoch 447/500\n",
            "176/176 [==============================] - 0s 2ms/step - loss: 0.3017 - accuracy: 0.8604\n",
            "Epoch 448/500\n",
            "176/176 [==============================] - 0s 2ms/step - loss: 0.3006 - accuracy: 0.8590\n",
            "Epoch 449/500\n",
            "176/176 [==============================] - 0s 2ms/step - loss: 0.2973 - accuracy: 0.8615\n",
            "Epoch 450/500\n",
            "176/176 [==============================] - 0s 2ms/step - loss: 0.3005 - accuracy: 0.8599\n",
            "Epoch 451/500\n",
            "176/176 [==============================] - 0s 2ms/step - loss: 0.3008 - accuracy: 0.8574\n",
            "Epoch 452/500\n",
            "176/176 [==============================] - 0s 2ms/step - loss: 0.2980 - accuracy: 0.8567\n",
            "Epoch 453/500\n",
            "176/176 [==============================] - 0s 2ms/step - loss: 0.2993 - accuracy: 0.8610\n",
            "Epoch 454/500\n",
            "176/176 [==============================] - 0s 2ms/step - loss: 0.2980 - accuracy: 0.8603\n",
            "Epoch 455/500\n",
            "176/176 [==============================] - 0s 2ms/step - loss: 0.2982 - accuracy: 0.8594\n",
            "Epoch 456/500\n",
            "176/176 [==============================] - 0s 2ms/step - loss: 0.2992 - accuracy: 0.8597\n",
            "Epoch 457/500\n",
            "176/176 [==============================] - 0s 2ms/step - loss: 0.2985 - accuracy: 0.8599\n",
            "Epoch 458/500\n",
            "176/176 [==============================] - 0s 2ms/step - loss: 0.2986 - accuracy: 0.8583\n",
            "Epoch 459/500\n",
            "176/176 [==============================] - 0s 2ms/step - loss: 0.2996 - accuracy: 0.8546\n",
            "Epoch 460/500\n",
            "176/176 [==============================] - 0s 2ms/step - loss: 0.2979 - accuracy: 0.8596\n",
            "Epoch 461/500\n",
            "176/176 [==============================] - 0s 2ms/step - loss: 0.2997 - accuracy: 0.8592\n",
            "Epoch 462/500\n",
            "176/176 [==============================] - 0s 2ms/step - loss: 0.2983 - accuracy: 0.8594\n",
            "Epoch 463/500\n",
            "176/176 [==============================] - 0s 2ms/step - loss: 0.2981 - accuracy: 0.8587\n",
            "Epoch 464/500\n",
            "176/176 [==============================] - 0s 2ms/step - loss: 0.2987 - accuracy: 0.8601\n",
            "Epoch 465/500\n",
            "176/176 [==============================] - 0s 2ms/step - loss: 0.2972 - accuracy: 0.8576\n",
            "Epoch 466/500\n",
            "176/176 [==============================] - 0s 2ms/step - loss: 0.2982 - accuracy: 0.8588\n",
            "Epoch 467/500\n",
            "176/176 [==============================] - 0s 2ms/step - loss: 0.2986 - accuracy: 0.8574\n",
            "Epoch 468/500\n",
            "176/176 [==============================] - 0s 2ms/step - loss: 0.2982 - accuracy: 0.8613\n",
            "Epoch 469/500\n",
            "176/176 [==============================] - 0s 2ms/step - loss: 0.2975 - accuracy: 0.8613\n",
            "Epoch 470/500\n",
            "176/176 [==============================] - 0s 2ms/step - loss: 0.3004 - accuracy: 0.8583\n",
            "Epoch 471/500\n",
            "176/176 [==============================] - 0s 2ms/step - loss: 0.2980 - accuracy: 0.8619\n",
            "Epoch 472/500\n",
            "176/176 [==============================] - 0s 2ms/step - loss: 0.2980 - accuracy: 0.8604\n",
            "Epoch 473/500\n",
            "176/176 [==============================] - 0s 2ms/step - loss: 0.2982 - accuracy: 0.8626\n",
            "Epoch 474/500\n",
            "176/176 [==============================] - 0s 2ms/step - loss: 0.2978 - accuracy: 0.8599\n",
            "Epoch 475/500\n",
            "176/176 [==============================] - 0s 2ms/step - loss: 0.2970 - accuracy: 0.8596\n",
            "Epoch 476/500\n",
            "176/176 [==============================] - 0s 2ms/step - loss: 0.2990 - accuracy: 0.8597\n",
            "Epoch 477/500\n",
            "176/176 [==============================] - 0s 2ms/step - loss: 0.2967 - accuracy: 0.8594\n",
            "Epoch 478/500\n",
            "176/176 [==============================] - 0s 2ms/step - loss: 0.2982 - accuracy: 0.8620\n",
            "Epoch 479/500\n",
            "176/176 [==============================] - 0s 2ms/step - loss: 0.2971 - accuracy: 0.8588\n",
            "Epoch 480/500\n",
            "176/176 [==============================] - 0s 2ms/step - loss: 0.2980 - accuracy: 0.8597\n",
            "Epoch 481/500\n",
            "176/176 [==============================] - 0s 2ms/step - loss: 0.2966 - accuracy: 0.8583\n",
            "Epoch 482/500\n",
            "176/176 [==============================] - 0s 2ms/step - loss: 0.2953 - accuracy: 0.8599\n",
            "Epoch 483/500\n",
            "176/176 [==============================] - 0s 2ms/step - loss: 0.2969 - accuracy: 0.8597\n",
            "Epoch 484/500\n",
            "176/176 [==============================] - 0s 2ms/step - loss: 0.2971 - accuracy: 0.8606\n",
            "Epoch 485/500\n",
            "176/176 [==============================] - 0s 2ms/step - loss: 0.2952 - accuracy: 0.8642\n",
            "Epoch 486/500\n",
            "176/176 [==============================] - 0s 2ms/step - loss: 0.2984 - accuracy: 0.8585\n",
            "Epoch 487/500\n",
            "176/176 [==============================] - 0s 2ms/step - loss: 0.2970 - accuracy: 0.8619\n",
            "Epoch 488/500\n",
            "176/176 [==============================] - 0s 2ms/step - loss: 0.2985 - accuracy: 0.8581\n",
            "Epoch 489/500\n",
            "176/176 [==============================] - 0s 2ms/step - loss: 0.2965 - accuracy: 0.8608\n",
            "Epoch 490/500\n",
            "176/176 [==============================] - 0s 2ms/step - loss: 0.2963 - accuracy: 0.8604\n",
            "Epoch 491/500\n",
            "176/176 [==============================] - 0s 2ms/step - loss: 0.2970 - accuracy: 0.8622\n",
            "Epoch 492/500\n",
            "176/176 [==============================] - 0s 2ms/step - loss: 0.2961 - accuracy: 0.8597\n",
            "Epoch 493/500\n",
            "176/176 [==============================] - 0s 2ms/step - loss: 0.2956 - accuracy: 0.8635\n",
            "Epoch 494/500\n",
            "176/176 [==============================] - 0s 2ms/step - loss: 0.2999 - accuracy: 0.8569\n",
            "Epoch 495/500\n",
            "176/176 [==============================] - 0s 2ms/step - loss: 0.2964 - accuracy: 0.8599\n",
            "Epoch 496/500\n",
            "176/176 [==============================] - 0s 2ms/step - loss: 0.2963 - accuracy: 0.8612\n",
            "Epoch 497/500\n",
            "176/176 [==============================] - 0s 2ms/step - loss: 0.2960 - accuracy: 0.8617\n",
            "Epoch 498/500\n",
            "176/176 [==============================] - 0s 2ms/step - loss: 0.2953 - accuracy: 0.8635\n",
            "Epoch 499/500\n",
            "176/176 [==============================] - 0s 2ms/step - loss: 0.2966 - accuracy: 0.8572\n",
            "Epoch 500/500\n",
            "176/176 [==============================] - 0s 2ms/step - loss: 0.2966 - accuracy: 0.8615\n"
          ]
        },
        {
          "output_type": "execute_result",
          "data": {
            "text/plain": [
              "<keras.callbacks.History at 0x7f605629ba50>"
            ]
          },
          "metadata": {},
          "execution_count": 153
        }
      ]
    },
    {
      "cell_type": "code",
      "metadata": {
        "colab": {
          "base_uri": "https://localhost:8080/"
        },
        "id": "9JEW7CwfwCkT",
        "outputId": "2b305b2d-b578-4721-96b5-28c94370b716"
      },
      "source": [
        "model.evaluate(X_test,y_test)"
      ],
      "execution_count": 154,
      "outputs": [
        {
          "output_type": "stream",
          "name": "stdout",
          "text": [
            "44/44 [==============================] - 0s 1ms/step - loss: 0.6291 - accuracy: 0.7591\n"
          ]
        },
        {
          "output_type": "execute_result",
          "data": {
            "text/plain": [
              "[0.6290510296821594, 0.7590618133544922]"
            ]
          },
          "metadata": {},
          "execution_count": 154
        }
      ]
    },
    {
      "cell_type": "code",
      "metadata": {
        "colab": {
          "base_uri": "https://localhost:8080/"
        },
        "id": "hYBDhWb-xH9_",
        "outputId": "21e51cf6-759b-40c7-948a-4ca617e092bc"
      },
      "source": [
        "yp=model.predict(X_test)\n",
        "yp[:5]"
      ],
      "execution_count": 155,
      "outputs": [
        {
          "output_type": "execute_result",
          "data": {
            "text/plain": [
              "array([[0.07014623],\n",
              "       [0.56232905],\n",
              "       [0.00433058],\n",
              "       [0.53755647],\n",
              "       [0.00290227]], dtype=float32)"
            ]
          },
          "metadata": {},
          "execution_count": 155
        }
      ]
    },
    {
      "cell_type": "code",
      "metadata": {
        "id": "pTyUZOSgxQO5"
      },
      "source": [
        "y_pred=[]\n",
        "for element in yp:\n",
        "  if element>0.5:\n",
        "    y_pred.append(1)\n",
        "  else:\n",
        "    y_pred.append(0)"
      ],
      "execution_count": 156,
      "outputs": []
    },
    {
      "cell_type": "code",
      "metadata": {
        "colab": {
          "base_uri": "https://localhost:8080/"
        },
        "id": "TzIZVnp0xx8S",
        "outputId": "3c486ad2-e4d1-49ca-f846-d893057f2bb0"
      },
      "source": [
        "from sklearn.metrics import confusion_matrix, classification_report\n",
        "print(classification_report(y_test,y_pred))"
      ],
      "execution_count": 157,
      "outputs": [
        {
          "output_type": "stream",
          "name": "stdout",
          "text": [
            "              precision    recall  f1-score   support\n",
            "\n",
            "           0       0.81      0.86      0.84       999\n",
            "           1       0.60      0.50      0.55       408\n",
            "\n",
            "    accuracy                           0.76      1407\n",
            "   macro avg       0.71      0.68      0.69      1407\n",
            "weighted avg       0.75      0.76      0.75      1407\n",
            "\n"
          ]
        }
      ]
    },
    {
      "cell_type": "code",
      "metadata": {
        "colab": {
          "base_uri": "https://localhost:8080/",
          "height": 459
        },
        "id": "eFyALQ73yoZA",
        "outputId": "0417be3c-288e-4321-cc55-b473089da91c"
      },
      "source": [
        "import seaborn as sn \n",
        "cm=tf.math.confusion_matrix(labels=y_test,predictions=y_pred)\n",
        "plt.figure(figsize=(10,7))\n",
        "sn.heatmap(cm,annot=True,fmt='d')\n",
        "plt.xlabel('predicted')\n",
        "plt.ylabel('Truth')"
      ],
      "execution_count": 158,
      "outputs": [
        {
          "output_type": "execute_result",
          "data": {
            "text/plain": [
              "Text(69.0, 0.5, 'Truth')"
            ]
          },
          "metadata": {},
          "execution_count": 158
        },
        {
          "output_type": "display_data",
          "data": {
            "image/png": "[encoded data removed]",
            "text/plain": [
              "<Figure size 720x504 with 2 Axes>"
            ]
          },
          "metadata": {
            "needs_background": "light"
          }
        }
      ]
    },
    {
      "cell_type": "code",
      "metadata": {
        "id": "SkcK9xa2zjL8"
      },
      "source": [
        ""
      ],
      "execution_count": 158,
      "outputs": []
    }
  ]
}