{
  "nbformat": 4,
  "nbformat_minor": 0,
  "metadata": {
    "colab": {
      "name": "cifarclassificationann.ipynb",
      "provenance": [],
      "authorship_tag": "ABX9TyNL0APFp5dSY6/s9M90erw8",
      "include_colab_link": true
    },
    "kernelspec": {
      "name": "python3",
      "display_name": "Python 3"
    },
    "language_info": {
      "name": "python"
    }
  },
  "cells": [
    {
      "cell_type": "markdown",
      "metadata": {
        "id": "view-in-github",
        "colab_type": "text"
      },
      "source": [
        "<a href=\"https://colab.research.google.com/github/knshkp/deep-learning-keras-tf-tutorial/blob/master/cifarclassificationann.ipynb\" target=\"_parent\"><img src=\"https://colab.research.google.com/assets/colab-badge.svg\" alt=\"Open In Colab\"/></a>"
      ]
    },
    {
      "cell_type": "code",
      "metadata": {
        "id": "TnBZ7FDpg0Lt"
      },
      "source": [
        "import tensorflow as tf\n",
        "import numpy as np\n",
        "from tensorflow import keras\n",
        "import numpy as np\n",
        "import matplotlib.pyplot as plt\n",
        "%matplotlib inline\n"
      ],
      "execution_count": 10,
      "outputs": []
    },
    {
      "cell_type": "code",
      "metadata": {
        "id": "i4DRwN7OhDCR"
      },
      "source": [
        "(X_train,y_train),(X_test,y_test)=tf.keras.datasets.cifar10.load_data()"
      ],
      "execution_count": 11,
      "outputs": []
    },
    {
      "cell_type": "code",
      "metadata": {
        "colab": {
          "base_uri": "https://localhost:8080/"
        },
        "id": "JbjnZByfhbpu",
        "outputId": "71eef445-3cd9-4315-da46-66a8682b08e7"
      },
      "source": [
        "X_train.shape"
      ],
      "execution_count": 12,
      "outputs": [
        {
          "output_type": "execute_result",
          "data": {
            "text/plain": [
              "(50000, 32, 32, 3)"
            ]
          },
          "metadata": {},
          "execution_count": 12
        }
      ]
    },
    {
      "cell_type": "code",
      "metadata": {
        "id": "biNSkV6ohelN"
      },
      "source": [
        "def plot_sample(index):\n",
        "  plt.figure(figsize=(10,1))\n",
        "  plt.imshow(X_train[index])"
      ],
      "execution_count": 14,
      "outputs": []
    },
    {
      "cell_type": "code",
      "metadata": {
        "colab": {
          "base_uri": "https://localhost:8080/",
          "height": 105
        },
        "id": "aFprkxIUjIeg",
        "outputId": "d15cac5a-b621-472e-d20d-cee871fa4ec2"
      },
      "source": [
        "plot_sample(0)"
      ],
      "execution_count": 16,
      "outputs": [
        {
          "output_type": "display_data",
          "data": {
            "image/png": "[encoded data removed]",
            "text/plain": [
              "<Figure size 720x72 with 1 Axes>"
            ]
          },
          "metadata": {
            "needs_background": "light"
          }
        }
      ]
    },
    {
      "cell_type": "code",
      "metadata": {
        "id": "D7bOZ5CajkT8"
      },
      "source": [
        "X_train_scaled=X_train/255\n",
        "X_test_scaled=X_test/255"
      ],
      "execution_count": 17,
      "outputs": []
    },
    {
      "cell_type": "code",
      "metadata": {
        "id": "vfpcUItLkR4n"
      },
      "source": [
        "y_train_categorical=keras.utils.to_categorical(\n",
        "    y_train,num_classes=10,dtype='float32'\n",
        ")"
      ],
      "execution_count": 18,
      "outputs": []
    },
    {
      "cell_type": "code",
      "metadata": {
        "id": "bJe15JihlcGn"
      },
      "source": [
        "y_test_categorical=keras.utils.to_categorical(\n",
        "    y_test,num_classes=10,dtype='float32'\n",
        ")"
      ],
      "execution_count": 19,
      "outputs": []
    },
    {
      "cell_type": "code",
      "metadata": {
        "colab": {
          "base_uri": "https://localhost:8080/"
        },
        "id": "jAIekSWYlmgu",
        "outputId": "25a8c92d-7881-4ebb-8893-a4b7f00884b8"
      },
      "source": [
        "model=keras.Sequential([\n",
        "                        keras.layers.Flatten(input_shape=(32,32,3)),\n",
        "                        keras.layers.Dense(3000,activation='relu'),\n",
        "                        keras.layers.Dense(1000,activation='sigmoid'),\n",
        "                        keras.layers.Dense(10,activation='sigmoid')\n",
        "])\n",
        "model.compile(optimizer='adam',\n",
        "              loss='categorical_crossentropy',\n",
        "              metrics=['accuracy'])\n",
        "model.fit(X_train_scaled,y_train_categorical,epochs=50)"
      ],
      "execution_count": 20,
      "outputs": [
        {
          "output_type": "stream",
          "name": "stdout",
          "text": [
            "Epoch 1/50\n",
            "1563/1563 [==============================] - 119s 76ms/step - loss: 1.9096 - accuracy: 0.3018\n",
            "Epoch 2/50\n",
            "1563/1563 [==============================] - 118s 76ms/step - loss: 1.6570 - accuracy: 0.4034\n",
            "Epoch 3/50\n",
            "1563/1563 [==============================] - 118s 76ms/step - loss: 1.5654 - accuracy: 0.4372\n",
            "Epoch 4/50\n",
            "1563/1563 [==============================] - 119s 76ms/step - loss: 1.4907 - accuracy: 0.4656\n",
            "Epoch 5/50\n",
            "1563/1563 [==============================] - 119s 76ms/step - loss: 1.4429 - accuracy: 0.4842\n",
            "Epoch 6/50\n",
            "1563/1563 [==============================] - 119s 76ms/step - loss: 1.3948 - accuracy: 0.4996\n",
            "Epoch 7/50\n",
            "1563/1563 [==============================] - 118s 76ms/step - loss: 1.3593 - accuracy: 0.5121\n",
            "Epoch 8/50\n",
            "1563/1563 [==============================] - 119s 76ms/step - loss: 1.3160 - accuracy: 0.5283\n",
            "Epoch 9/50\n",
            "1563/1563 [==============================] - 119s 76ms/step - loss: 1.2758 - accuracy: 0.5432\n",
            "Epoch 10/50\n",
            "1563/1563 [==============================] - 119s 76ms/step - loss: 1.2427 - accuracy: 0.5528\n",
            "Epoch 11/50\n",
            "1563/1563 [==============================] - 120s 77ms/step - loss: 1.1999 - accuracy: 0.5704\n",
            "Epoch 12/50\n",
            "1563/1563 [==============================] - 119s 76ms/step - loss: 1.1635 - accuracy: 0.5813\n",
            "Epoch 13/50\n",
            "1563/1563 [==============================] - 118s 76ms/step - loss: 1.1360 - accuracy: 0.5927\n",
            "Epoch 14/50\n",
            "1563/1563 [==============================] - 119s 76ms/step - loss: 1.1025 - accuracy: 0.6064\n",
            "Epoch 15/50\n",
            "1563/1563 [==============================] - 119s 76ms/step - loss: 1.0729 - accuracy: 0.6162\n",
            "Epoch 16/50\n",
            "1563/1563 [==============================] - 119s 76ms/step - loss: 1.0411 - accuracy: 0.6261\n",
            "Epoch 17/50\n",
            "1563/1563 [==============================] - 119s 76ms/step - loss: 1.0083 - accuracy: 0.6414\n",
            "Epoch 18/50\n",
            "1563/1563 [==============================] - 119s 76ms/step - loss: 0.9761 - accuracy: 0.6526\n",
            "Epoch 19/50\n",
            "1563/1563 [==============================] - 119s 76ms/step - loss: 0.9516 - accuracy: 0.6612\n",
            "Epoch 20/50\n",
            "1563/1563 [==============================] - 118s 75ms/step - loss: 0.9265 - accuracy: 0.6707\n",
            "Epoch 21/50\n",
            "1563/1563 [==============================] - 118s 75ms/step - loss: 0.8898 - accuracy: 0.6823\n",
            "Epoch 22/50\n",
            "1563/1563 [==============================] - 118s 76ms/step - loss: 0.8726 - accuracy: 0.6897\n",
            "Epoch 23/50\n",
            "1563/1563 [==============================] - 118s 76ms/step - loss: 0.8498 - accuracy: 0.6992\n",
            "Epoch 24/50\n",
            "1563/1563 [==============================] - 118s 76ms/step - loss: 0.8195 - accuracy: 0.7097\n",
            "Epoch 25/50\n",
            "1563/1563 [==============================] - 119s 76ms/step - loss: 0.7948 - accuracy: 0.7186\n",
            "Epoch 26/50\n",
            "1563/1563 [==============================] - 119s 76ms/step - loss: 0.7752 - accuracy: 0.7254\n",
            "Epoch 27/50\n",
            "1563/1563 [==============================] - 119s 76ms/step - loss: 0.7555 - accuracy: 0.7312\n",
            "Epoch 28/50\n",
            "1563/1563 [==============================] - 118s 76ms/step - loss: 0.7400 - accuracy: 0.7387\n",
            "Epoch 29/50\n",
            "1563/1563 [==============================] - 118s 75ms/step - loss: 0.7259 - accuracy: 0.7418\n",
            "Epoch 30/50\n",
            "1563/1563 [==============================] - 118s 76ms/step - loss: 0.6982 - accuracy: 0.7511\n",
            "Epoch 31/50\n",
            "1563/1563 [==============================] - 118s 76ms/step - loss: 0.6741 - accuracy: 0.7611\n",
            "Epoch 32/50\n",
            "1563/1563 [==============================] - 118s 76ms/step - loss: 0.6653 - accuracy: 0.7614\n",
            "Epoch 33/50\n",
            "1563/1563 [==============================] - 118s 75ms/step - loss: 0.6458 - accuracy: 0.7696\n",
            "Epoch 34/50\n",
            "1563/1563 [==============================] - 118s 75ms/step - loss: 0.6421 - accuracy: 0.7706\n",
            "Epoch 35/50\n",
            "1563/1563 [==============================] - 118s 75ms/step - loss: 0.6130 - accuracy: 0.7817\n",
            "Epoch 36/50\n",
            "1563/1563 [==============================] - 118s 75ms/step - loss: 0.6064 - accuracy: 0.7857\n",
            "Epoch 37/50\n",
            "1563/1563 [==============================] - 118s 76ms/step - loss: 0.6002 - accuracy: 0.7854\n",
            "Epoch 38/50\n",
            "1563/1563 [==============================] - 119s 76ms/step - loss: 0.5886 - accuracy: 0.7919\n",
            "Epoch 39/50\n",
            "1563/1563 [==============================] - 119s 76ms/step - loss: 0.5775 - accuracy: 0.7945\n",
            "Epoch 40/50\n",
            "1563/1563 [==============================] - 119s 76ms/step - loss: 0.5646 - accuracy: 0.7965\n",
            "Epoch 41/50\n",
            "1563/1563 [==============================] - 119s 76ms/step - loss: 0.5541 - accuracy: 0.8003\n",
            "Epoch 42/50\n",
            "1563/1563 [==============================] - 119s 76ms/step - loss: 0.5454 - accuracy: 0.8042\n",
            "Epoch 43/50\n",
            "1563/1563 [==============================] - 119s 76ms/step - loss: 0.5367 - accuracy: 0.8101\n",
            "Epoch 44/50\n",
            "1563/1563 [==============================] - 119s 76ms/step - loss: 0.5302 - accuracy: 0.8096\n",
            "Epoch 45/50\n",
            "1563/1563 [==============================] - 119s 76ms/step - loss: 0.5206 - accuracy: 0.8143\n",
            "Epoch 46/50\n",
            "1563/1563 [==============================] - 119s 76ms/step - loss: 0.5126 - accuracy: 0.8175\n",
            "Epoch 47/50\n",
            "1563/1563 [==============================] - 119s 76ms/step - loss: 0.5042 - accuracy: 0.8206\n",
            "Epoch 48/50\n",
            "1563/1563 [==============================] - 119s 76ms/step - loss: 0.5100 - accuracy: 0.8177\n",
            "Epoch 49/50\n",
            "1563/1563 [==============================] - 119s 76ms/step - loss: 0.4969 - accuracy: 0.8225\n",
            "Epoch 50/50\n",
            "1563/1563 [==============================] - 119s 76ms/step - loss: 0.4871 - accuracy: 0.8254\n"
          ]
        },
        {
          "output_type": "execute_result",
          "data": {
            "text/plain": [
              "<keras.callbacks.History at 0x7fb43b0b9690>"
            ]
          },
          "metadata": {},
          "execution_count": 20
        }
      ]
    },
    {
      "cell_type": "code",
      "metadata": {
        "colab": {
          "base_uri": "https://localhost:8080/"
        },
        "id": "0yJLKhLAr_YX",
        "outputId": "227d1784-c629-4a86-d884-a9a401039a30"
      },
      "source": [
        "model.predict(X_test_scaled)"
      ],
      "execution_count": 21,
      "outputs": [
        {
          "output_type": "execute_result",
          "data": {
            "text/plain": [
              "array([[2.1607429e-02, 3.9647877e-02, 4.0107667e-01, ..., 3.1953454e-03,\n",
              "        5.2206975e-01, 3.1036973e-02],\n",
              "       [1.4427930e-02, 9.4007808e-01, 1.1634380e-02, ..., 1.8398645e-05,\n",
              "        9.9499649e-01, 8.5368687e-01],\n",
              "       [8.6676544e-01, 9.6257448e-01, 3.6019087e-04, ..., 3.0011743e-02,\n",
              "        9.9057901e-01, 4.9709469e-01],\n",
              "       ...,\n",
              "       [3.6483502e-06, 3.8942112e-06, 8.3687305e-03, ..., 7.9091718e-05,\n",
              "        5.0738454e-04, 1.5535684e-06],\n",
              "       [3.9269924e-03, 4.8186641e-05, 3.0283630e-02, ..., 8.4411383e-02,\n",
              "        2.8616786e-02, 3.1504035e-04],\n",
              "       [3.0163050e-02, 3.2898486e-03, 5.8850306e-01, ..., 9.8796964e-01,\n",
              "        2.3659766e-03, 1.2335356e-04]], dtype=float32)"
            ]
          },
          "metadata": {},
          "execution_count": 21
        }
      ]
    },
    {
      "cell_type": "code",
      "metadata": {
        "colab": {
          "base_uri": "https://localhost:8080/"
        },
        "id": "wvTkyQ4XJ3H8",
        "outputId": "463c69c1-5110-4ca0-aa1d-abd431ccb6f2"
      },
      "source": [
        "y_test[0][0]"
      ],
      "execution_count": 23,
      "outputs": [
        {
          "output_type": "execute_result",
          "data": {
            "text/plain": [
              "3"
            ]
          },
          "metadata": {},
          "execution_count": 23
        }
      ]
    },
    {
      "cell_type": "code",
      "metadata": {
        "id": "AkbFC2k5J9yE"
      },
      "source": [
        ""
      ],
      "execution_count": null,
      "outputs": []
    }
  ]
}