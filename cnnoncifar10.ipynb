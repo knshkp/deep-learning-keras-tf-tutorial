{
  "nbformat": 4,
  "nbformat_minor": 0,
  "metadata": {
    "colab": {
      "name": "cnnoncifar10.ipynb",
      "provenance": [],
      "collapsed_sections": [],
      "authorship_tag": "ABX9TyNxe3YQkBuJ5kxhJ1vszh+7",
      "include_colab_link": true
    },
    "kernelspec": {
      "name": "python3",
      "display_name": "Python 3"
    },
    "language_info": {
      "name": "python"
    }
  },
  "cells": [
    {
      "cell_type": "markdown",
      "metadata": {
        "id": "view-in-github",
        "colab_type": "text"
      },
      "source": [
        "<a href=\"https://colab.research.google.com/github/knshkp/deep-learning-keras-tf-tutorial/blob/master/cnnoncifar10.ipynb\" target=\"_parent\"><img src=\"https://colab.research.google.com/assets/colab-badge.svg\" alt=\"Open In Colab\"/></a>"
      ]
    },
    {
      "cell_type": "code",
      "metadata": {
        "id": "f3X19yL5D9Gp"
      },
      "source": [
        "import pandas as pd\n",
        "import numpy as np\n",
        "import tensorflow as tf\n",
        "from tensorflow.keras import datasets,layers,models"
      ],
      "execution_count": 20,
      "outputs": []
    },
    {
      "cell_type": "code",
      "metadata": {
        "colab": {
          "base_uri": "https://localhost:8080/"
        },
        "id": "YwZznMewjnv9",
        "outputId": "2f7a1a4d-990f-428f-ddf6-5af03eaa4709"
      },
      "source": [
        "y_train[:5]"
      ],
      "execution_count": 21,
      "outputs": [
        {
          "output_type": "execute_result",
          "data": {
            "text/plain": [
              "array([[0.02352941],\n",
              "       [0.03529412],\n",
              "       [0.03529412],\n",
              "       [0.01568627],\n",
              "       [0.00392157]])"
            ]
          },
          "metadata": {},
          "execution_count": 21
        }
      ]
    },
    {
      "cell_type": "code",
      "metadata": {
        "colab": {
          "base_uri": "https://localhost:8080/"
        },
        "id": "ryndGcDQjsL2",
        "outputId": "00573e39-643a-4385-c828-2412eb3427ec"
      },
      "source": [
        "y_train=y_train.reshape(-1,)\n",
        "y_train[:5]"
      ],
      "execution_count": 22,
      "outputs": [
        {
          "output_type": "execute_result",
          "data": {
            "text/plain": [
              "array([0.02352941, 0.03529412, 0.03529412, 0.01568627, 0.00392157])"
            ]
          },
          "metadata": {},
          "execution_count": 22
        }
      ]
    },
    {
      "cell_type": "code",
      "metadata": {
        "id": "MUxTSSDxEU_8"
      },
      "source": [
        "(X_train,y_train),(X_test,y_test)=datasets.cifar10.load_data()"
      ],
      "execution_count": 23,
      "outputs": []
    },
    {
      "cell_type": "code",
      "metadata": {
        "id": "k12HRPn-Env3"
      },
      "source": [
        "classes=['airplane','automobile','bird','cat','deer','dog','frog','horse','ship','truck']"
      ],
      "execution_count": 24,
      "outputs": []
    },
    {
      "cell_type": "code",
      "metadata": {
        "id": "kUSyW1F_itTt"
      },
      "source": [
        "def plot_sample(X,y,index):\n",
        "  plt.figure(figsize=(15,2))\n",
        "  plt.imshow(x[index])\n",
        "  plt.xlabel(y[index])"
      ],
      "execution_count": 25,
      "outputs": []
    },
    {
      "cell_type": "code",
      "metadata": {
        "id": "023hDMIFjNkZ"
      },
      "source": [
        "X_train=X_train/255\n",
        "X_test=X_test/255"
      ],
      "execution_count": 26,
      "outputs": []
    },
    {
      "cell_type": "code",
      "metadata": {
        "colab": {
          "base_uri": "https://localhost:8080/"
        },
        "id": "l1BegN2OlIw2",
        "outputId": "a641f3d0-295c-4686-855f-8d1c9c77ae22"
      },
      "source": [
        "ann=models.Sequential([\n",
        "                       layers.Flatten(input_shape=(32,32,3)),\n",
        "                       layers.Dense(3000,activation='relu'),\n",
        "                       layers.Dense(1000,activation='relu'),\n",
        "                       layers.Dense(10,activation='sigmoid'),\n",
        "                      \n",
        "])\n",
        "ann.compile(optimizer='SGD',\n",
        "            loss='sparse_categorical_crossentropy',\n",
        "            metrics=['accuracy'])\n",
        "ann.fit(X_train,y_train,epochs=5)"
      ],
      "execution_count": 27,
      "outputs": [
        {
          "output_type": "stream",
          "name": "stdout",
          "text": [
            "Epoch 1/5\n",
            "1563/1563 [==============================] - 112s 71ms/step - loss: 1.8127 - accuracy: 0.3535\n",
            "Epoch 2/5\n",
            "1563/1563 [==============================] - 108s 69ms/step - loss: 1.6219 - accuracy: 0.4272\n",
            "Epoch 3/5\n",
            "1563/1563 [==============================] - 106s 68ms/step - loss: 1.5423 - accuracy: 0.4555\n",
            "Epoch 4/5\n",
            "1563/1563 [==============================] - 110s 70ms/step - loss: 1.4810 - accuracy: 0.4793\n",
            "Epoch 5/5\n",
            "1563/1563 [==============================] - 109s 70ms/step - loss: 1.4320 - accuracy: 0.4962\n"
          ]
        },
        {
          "output_type": "execute_result",
          "data": {
            "text/plain": [
              "<keras.callbacks.History at 0x7f6dc52ba090>"
            ]
          },
          "metadata": {},
          "execution_count": 27
        }
      ]
    },
    {
      "cell_type": "code",
      "metadata": {
        "colab": {
          "base_uri": "https://localhost:8080/"
        },
        "id": "zWvUQ9WZnj-l",
        "outputId": "38e35830-4ef1-4174-a24f-b83aec28fe48"
      },
      "source": [
        "y_train[:5]"
      ],
      "execution_count": 28,
      "outputs": [
        {
          "output_type": "execute_result",
          "data": {
            "text/plain": [
              "array([[6],\n",
              "       [9],\n",
              "       [9],\n",
              "       [4],\n",
              "       [1]], dtype=uint8)"
            ]
          },
          "metadata": {},
          "execution_count": 28
        }
      ]
    },
    {
      "cell_type": "code",
      "metadata": {
        "id": "oq6LGGHcq-cg"
      },
      "source": [
        "cnn=models.Sequential([\n",
        "                      layers.Conv2D(filters=64,kernel_size=(3,3),activation='relu',input_shape=(32,32,3)),\n",
        "                      layers.MaxPooling2D((2,2)),\n",
        "                      layers.Conv2D(filters=64,kernel_size=(3,3),activation='relu'),\n",
        "                      layers.MaxPooling2D((2,2)),\n",
        "                      layers.Flatten(),\n",
        "                      layers.Dense(64,activation='relu'),\n",
        "                      layers.Dense(10,activation='softmax'),\n",
        "\n",
        "\n",
        "])"
      ],
      "execution_count": 33,
      "outputs": []
    },
    {
      "cell_type": "code",
      "metadata": {
        "id": "KuWuQkDuuCdF"
      },
      "source": [
        "cnn.compile(optimizer='adam',\n",
        "            loss='sparse_categorical_crossentropy',\n",
        "            metrics=['accuracy'],\n",
        "            \n",
        "            )"
      ],
      "execution_count": 34,
      "outputs": []
    },
    {
      "cell_type": "code",
      "metadata": {
        "colab": {
          "base_uri": "https://localhost:8080/"
        },
        "id": "M4ICS4gpurXR",
        "outputId": "18b52506-480b-4318-ab86-a7b8fbf89006"
      },
      "source": [
        "cnn.fit(X_train,y_train,epochs=10)"
      ],
      "execution_count": 35,
      "outputs": [
        {
          "output_type": "stream",
          "name": "stdout",
          "text": [
            "Epoch 1/10\n",
            "1563/1563 [==============================] - 111s 71ms/step - loss: 1.4629 - accuracy: 0.4738\n",
            "Epoch 2/10\n",
            "1563/1563 [==============================] - 111s 71ms/step - loss: 1.1111 - accuracy: 0.6101\n",
            "Epoch 3/10\n",
            "1563/1563 [==============================] - 111s 71ms/step - loss: 0.9774 - accuracy: 0.6594\n",
            "Epoch 4/10\n",
            "1563/1563 [==============================] - 111s 71ms/step - loss: 0.8907 - accuracy: 0.6904\n",
            "Epoch 5/10\n",
            "1563/1563 [==============================] - 111s 71ms/step - loss: 0.8263 - accuracy: 0.7146\n",
            "Epoch 6/10\n",
            "1563/1563 [==============================] - 110s 70ms/step - loss: 0.7747 - accuracy: 0.7318\n",
            "Epoch 7/10\n",
            "1563/1563 [==============================] - 111s 71ms/step - loss: 0.7251 - accuracy: 0.7467\n",
            "Epoch 8/10\n",
            "1563/1563 [==============================] - 111s 71ms/step - loss: 0.6853 - accuracy: 0.7596\n",
            "Epoch 9/10\n",
            "1563/1563 [==============================] - 110s 71ms/step - loss: 0.6487 - accuracy: 0.7751\n",
            "Epoch 10/10\n",
            "1563/1563 [==============================] - 107s 69ms/step - loss: 0.6139 - accuracy: 0.7834\n"
          ]
        },
        {
          "output_type": "execute_result",
          "data": {
            "text/plain": [
              "<keras.callbacks.History at 0x7f6dc51ef850>"
            ]
          },
          "metadata": {},
          "execution_count": 35
        }
      ]
    },
    {
      "cell_type": "code",
      "metadata": {
        "id": "6LzhyQJKuzpb"
      },
      "source": [
        ""
      ],
      "execution_count": null,
      "outputs": []
    }
  ]
}